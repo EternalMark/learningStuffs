{
 "cells": [
  {
   "cell_type": "markdown",
   "metadata": {},
   "source": [
    "## Ejercicio \n",
    "\n",
    "### Haciendo proyecto de IMDB en Pytorch"
   ]
  },
  {
   "cell_type": "code",
   "execution_count": null,
   "metadata": {},
   "outputs": [],
   "source": [
    "import torch                     # for all things PyTorch\n",
    "import torch.nn as nn            # for torch.nn.Module, the parent object for PyTorch models\n",
    "import torch.nn.functional as F  # for the activation function\n",
    "\n",
    "# Get APIs for optimizer, scheduler and datasets\n",
    "import torch.nn.functional as F\n",
    "import torch.optim as optim\n",
    "from torchvision import datasets, transforms\n",
    "from torch.optim.lr_scheduler import StepLR\n",
    "\n",
    "from torchvision.transforms import ToTensor"
   ]
  },
  {
   "cell_type": "code",
   "execution_count": 2,
   "metadata": {},
   "outputs": [
    {
     "name": "stderr",
     "output_type": "stream",
     "text": [
      "2025-03-02 00:40:26.468378: E external/local_xla/xla/stream_executor/cuda/cuda_fft.cc:477] Unable to register cuFFT factory: Attempting to register factory for plugin cuFFT when one has already been registered\n",
      "WARNING: All log messages before absl::InitializeLog() is called are written to STDERR\n",
      "E0000 00:00:1740876026.518140    1783 cuda_dnn.cc:8310] Unable to register cuDNN factory: Attempting to register factory for plugin cuDNN when one has already been registered\n",
      "E0000 00:00:1740876026.531637    1783 cuda_blas.cc:1418] Unable to register cuBLAS factory: Attempting to register factory for plugin cuBLAS when one has already been registered\n",
      "2025-03-02 00:40:26.637218: I tensorflow/core/platform/cpu_feature_guard.cc:210] This TensorFlow binary is optimized to use available CPU instructions in performance-critical operations.\n",
      "To enable the following instructions: AVX2 FMA, in other operations, rebuild TensorFlow with the appropriate compiler flags.\n"
     ]
    },
    {
     "name": "stdout",
     "output_type": "stream",
     "text": [
      "TF Version    2.18.0\n",
      "TF Path       /usr/local/lib/python3.11/site-packages/keras/api/_v2\n",
      "Keras version  3.8.0\n",
      "numpy version  2.0.2\n",
      "Num GPUs Available:  1\n"
     ]
    }
   ],
   "source": [
    "from logging import logProcesses\n",
    "import os, shutil\n",
    "from platform import python_branch\n",
    "from syslog import LOG_SYSLOG\n",
    "\n",
    "import numpy as np\n",
    "import matplotlib.pyplot as plt \n",
    "import tensorflow as tf\n",
    "import keras\n",
    "from keras import layers\n",
    "from keras import models\n",
    "from keras import optimizers\n",
    "from keras.layers import Dropout\n",
    "from keras.datasets import imdb\n",
    "\n",
    "print (\"TF Version   \", tf.__version__)\n",
    "print (\"TF Path      \", tf.__path__[0])\n",
    "print(\"Keras version \", keras.__version__)\n",
    "print(\"numpy version \", np.__version__)\n",
    "print(\"Num GPUs Available: \", len(tf.config.list_physical_devices('GPU')))"
   ]
  },
  {
   "cell_type": "code",
   "execution_count": 3,
   "metadata": {},
   "outputs": [
    {
     "name": "stdout",
     "output_type": "stream",
     "text": [
      "/home/jupyter\n"
     ]
    }
   ],
   "source": [
    "import os\n",
    "import csv\n",
    "\n",
    "# get the current working directory\n",
    "current_working_directory = os.getcwd()\n",
    "# print output to the console\n",
    "print(current_working_directory)"
   ]
  },
  {
   "cell_type": "code",
   "execution_count": 4,
   "metadata": {},
   "outputs": [],
   "source": [
    "def vectorize_sequences(sequences, dimension=10000):\n",
    "    results = np.zeros((len(sequences), dimension)).astype('float32')\n",
    "    for i, sequence in enumerate (sequences):\n",
    "        results[i, sequence] = 1\n",
    "    return results\n",
    "\n",
    "def print_review( item ) :\n",
    "  for i in item :\n",
    "    print (i)\n",
    "\n",
    "def count_params(model):\n",
    "    return sum(p.numel() for p in model.parameters() if p.requires_grad)"
   ]
  },
  {
   "cell_type": "code",
   "execution_count": 5,
   "metadata": {},
   "outputs": [
    {
     "name": "stdout",
     "output_type": "stream",
     "text": [
      "[1, 14, 22, 16, 43, 530, 973, 1622, 1385, 65, 458, 4468, 66, 3941, 4, 173, 36, 256, 5, 25, 100, 43, 838, 112, 50, 670, 2, 9, 35, 480, 284, 5, 150, 4, 172, 112, 167, 2, 336, 385, 39, 4, 172, 4536, 1111, 17, 546, 38, 13, 447, 4, 192, 50, 16, 6, 147, 2025, 19, 14, 22, 4, 1920, 4613, 469, 4, 22, 71, 87, 12, 16, 43, 530, 38, 76, 15, 13, 1247, 4, 22, 17, 515, 17, 12, 16, 626, 18, 2, 5, 62, 386, 12, 8, 316, 8, 106, 5, 4, 2223, 5244, 16, 480, 66, 3785, 33, 4, 130, 12, 16, 38, 619, 5, 25, 124, 51, 36, 135, 48, 25, 1415, 33, 6, 22, 12, 215, 28, 77, 52, 5, 14, 407, 16, 82, 2, 8, 4, 107, 117, 5952, 15, 256, 4, 2, 7, 3766, 5, 723, 36, 71, 43, 530, 476, 26, 400, 317, 46, 7, 4, 2, 1029, 13, 104, 88, 4, 381, 15, 297, 98, 32, 2071, 56, 26, 141, 6, 194, 7486, 18, 4, 226, 22, 21, 134, 476, 26, 480, 5, 144, 30, 5535, 18, 51, 36, 28, 224, 92, 25, 104, 4, 226, 65, 16, 38, 1334, 88, 12, 16, 283, 5, 16, 4472, 113, 103, 32, 15, 16, 5345, 19, 178, 32]\n"
     ]
    }
   ],
   "source": [
    "# Get the data from tf/keras. Maybe I need to test the local data to ensure it is a bona fide version \n",
    "imdb = tf.keras.datasets.imdb\n",
    "\n",
    "(train_data, train_labels), (test_data, test_labels) = imdb.load_data(num_words=10000)\n",
    "\n",
    "print (train_data[0])\n"
   ]
  },
  {
   "cell_type": "code",
   "execution_count": 6,
   "metadata": {},
   "outputs": [
    {
     "name": "stdout",
     "output_type": "stream",
     "text": [
      "[1 0 0 ... 0 1 0]\n",
      "(25000,)\n",
      "(25000,)\n",
      "(25000,)\n",
      "(25000,)\n"
     ]
    }
   ],
   "source": [
    "print (train_labels[10:])\n",
    "print (train_data.shape)\n",
    "print (train_labels.shape)\n",
    "print (test_data.shape)\n",
    "print (test_labels.shape)"
   ]
  },
  {
   "cell_type": "code",
   "execution_count": 8,
   "metadata": {},
   "outputs": [],
   "source": [
    "# with open('train_data.txt', 'w') as f:\n",
    "#     csv.writer(f, delimiter=' ').writerows(train_data)\n",
    "\n",
    "# with open('train_labels.txt', 'w') as f:\n",
    "#     csv.writer(f, delimiter=' ').writerows(train_labels)"
   ]
  },
  {
   "cell_type": "code",
   "execution_count": 7,
   "metadata": {},
   "outputs": [],
   "source": [
    "x_train = vectorize_sequences(train_data)\n",
    "x_test = vectorize_sequences(test_data)\n",
    "\n",
    "y_train = torch.tensor(np.asarray(train_labels)).to(torch.long)#.astype('long')\n",
    "y_test  = torch.tensor(np.asarray(test_labels)).to(torch.long)#.astype('float32')\n",
    "\n"
   ]
  },
  {
   "cell_type": "code",
   "execution_count": 9,
   "metadata": {},
   "outputs": [
    {
     "name": "stdout",
     "output_type": "stream",
     "text": [
      "[0. 1. 1. ... 0. 0. 0.]\n",
      "<class 'numpy.ndarray'>\n",
      "(25000, 10000)\n",
      "(25000,)\n"
     ]
    }
   ],
   "source": [
    "print (x_train[0])\n",
    "print (type(x_train))\n",
    "print (x_train.shape)\n",
    "print (train_labels.shape)\n"
   ]
  },
  {
   "cell_type": "code",
   "execution_count": 10,
   "metadata": {},
   "outputs": [
    {
     "name": "stdout",
     "output_type": "stream",
     "text": [
      "[tensor([0., 1., 1.,  ..., 0., 0., 0.]), 1]\n"
     ]
    }
   ],
   "source": [
    "# DATA_train = [[torch.tensor(d.tolist()).to(torch.int), l.item()] for d, l in zip(x_train, y_train)]\n",
    "DATA_train = [[torch.tensor(d).to(torch.float), l.item()] for d, l in zip(x_train, y_train)]\n",
    "\n",
    "# DATA_train = [[torch.tensor(d), l.item()] for d, l in zip(x_train, y_train)]\n",
    "print (DATA_train[0])"
   ]
  },
  {
   "cell_type": "code",
   "execution_count": 11,
   "metadata": {},
   "outputs": [
    {
     "name": "stdout",
     "output_type": "stream",
     "text": [
      "[tensor([0., 1., 1.,  ..., 0., 0., 0.]), 0]\n"
     ]
    }
   ],
   "source": [
    "DATA_test = [[torch.tensor(d).to(torch.float), l.item()] for d, l in zip(x_test, y_test)]\n",
    "print (DATA_test[0])"
   ]
  },
  {
   "cell_type": "code",
   "execution_count": 12,
   "metadata": {},
   "outputs": [
    {
     "name": "stdout",
     "output_type": "stream",
     "text": [
      "Using cpu device\n",
      "DenseNet(\n",
      "  (linear_relu_stack): Sequential(\n",
      "    (0): Linear(in_features=10000, out_features=16, bias=True)\n",
      "    (1): ReLU()\n",
      "    (2): Linear(in_features=16, out_features=16, bias=True)\n",
      "    (3): ReLU()\n",
      "    (4): Linear(in_features=16, out_features=2, bias=True)\n",
      "    (5): Sigmoid()\n",
      "  )\n",
      ")\n",
      "Numero de parámetros= 160322\n"
     ]
    }
   ],
   "source": [
    "# Define a NN model with dense layers (which Pytorch calls \"Linear\").\n",
    "# The model can be used to process the MNIST-digits data \n",
    "\n",
    "# Determine what device (GPU, CPU, MPS) is available for training\n",
    "\n",
    "device = (\n",
    "    \"cuda\"\n",
    "    if torch.cuda.is_available()\n",
    "    else \"mps\"\n",
    "    if torch.backends.mps.is_available()\n",
    "    else \"cpu\"\n",
    ")\n",
    "print(f\"Using {device} device\")\n",
    "\n",
    "# # create a model witl 16 units, compiule, train, plot\n",
    "# model = tf.keras.models.Sequential()\n",
    "# model.add(tf.keras.layers.Dense(16, activation='relu', input_shape=(10000,)))\n",
    "# model.add(tf.keras.layers.Dense(16, activation='relu'))\n",
    "# model.add(tf.keras.layers.Dense(1, activation='sigmoid'))\n",
    "# model.compile(optimizer='rmsprop', loss='binary_crossentropy', metrics=['acc'])\n",
    "\n",
    "\n",
    "# Define Dense Model\n",
    "class DenseNet(nn.Module):\n",
    "    def __init__(self):\n",
    "        super(DenseNet, self).__init__()\n",
    "        # self.flatten = nn.Flatten()\n",
    "        self.linear_relu_stack = nn.Sequential(\n",
    "            nn.Linear(10000,16),\n",
    "            nn.ReLU(),\n",
    "            nn.Linear(16,16),\n",
    "            nn.ReLU(),\n",
    "            nn.Linear(16,2),\n",
    "            # nn.ReLU(),\n",
    "            nn.Sigmoid(),\n",
    "        )\n",
    "\n",
    "    def forward(self, x):\n",
    "        # x = self.flatten(x)\n",
    "        logits = self.linear_relu_stack(x)\n",
    "        return logits\n",
    "\n",
    "    # def forward(self, x):\n",
    "    #     x = self.flatten(x)\n",
    "    #     logits = self.linear_relu_stack(x)\n",
    "    #     return logits\n",
    "dense_model = DenseNet().to(device)\n",
    "print(dense_model)\n",
    "print(\"Numero de parámetros=\",count_params(dense_model))"
   ]
  },
  {
   "cell_type": "code",
   "execution_count": null,
   "metadata": {},
   "outputs": [],
   "source": [
    "# input_dim=100\n",
    "# embedding_dim=128\n",
    "# hidden_dim=258\n",
    "# output_dim=2\n",
    "\n",
    "# # Define Dense Model\n",
    "# class DenseNet(nn.Module):\n",
    "#     def __init__(self):\n",
    "#         super().__init__()\n",
    "#         self.embedding=nn.Embedding(100,128)\n",
    "#         # self.flatten = nn.Flatten()\n",
    "#         self.linear_relu_stack = nn.Sequential(\n",
    "#             nn.Linear(10000,16),\n",
    "#             nn.ReLU(),\n",
    "#             nn.Linear(16,2),\n",
    "#             # nn.ReLU(),\n",
    "#             # nn.Linear(16,2),\n",
    "#             # nn.ReLU(),\n",
    "#             # nn.Sigmoid(),\n",
    "#         )\n",
    "\n",
    "#     def forward(self, x):\n",
    "#         embedding=self.embedding(x)\n",
    "#         # x = self.flatten(x)\n",
    "#         logits = self.linear_relu_stack(x)\n",
    "#         return logits\n",
    "\n",
    "#     # def forward(self, x):\n",
    "#     #     x = self.flatten(x)\n",
    "#     #     logits = self.linear_relu_stack(x)\n",
    "#     #     return logits\n",
    "# dense_model = DenseNet().to(device)\n",
    "# print(dense_model)\n",
    "# print(\"Numero de parámetros=\",count_params(dense_model))"
   ]
  },
  {
   "cell_type": "code",
   "execution_count": 13,
   "metadata": {},
   "outputs": [],
   "source": [
    "# x_val = x_train[:10000]\n",
    "# partial_x_train = x_train[10000:]\n",
    "\n",
    "# y_val = y_train[:10000]\n",
    "# partial_y_train = y_train[10000:]\n",
    "\n",
    "# history = model_8.fit(partial_x_train, partial_y_train, epochs=20, batch_size=512, validation_data=(x_val, y_val))\n",
    "\n",
    "# history_dict = history.history\n",
    "# loss_values = history_dict['loss']\n",
    "# val_loss_values = history_dict['val_loss']\n",
    "# epochs = range(1, len(loss_values) + 1)\n",
    "\n",
    "\n",
    "# Create data loaders\n",
    "# combined2\n",
    "# train_loader = torch.utils.data.DataLoader(train_data, batch_size=512, shuffle=True)\n",
    "train_loader = torch.utils.data.DataLoader(DATA_train, batch_size=256, shuffle=True)\n",
    "test_loader = torch.utils.data.DataLoader(DATA_test, batch_size=256, shuffle=False)\n"
   ]
  },
  {
   "cell_type": "code",
   "execution_count": 14,
   "metadata": {},
   "outputs": [],
   "source": [
    "learning_rate = 0.005\n",
    "# Instantiate the model, optimizer, and loss function\n",
    "model = DenseNet()\n",
    "optimizer = optim.Adam(model.parameters(), lr=learning_rate)\n",
    "# optimizer = optim.Adam(model.parameters())\n",
    "criterion = nn.CrossEntropyLoss()"
   ]
  },
  {
   "cell_type": "code",
   "execution_count": 15,
   "metadata": {},
   "outputs": [],
   "source": [
    "model.__init__()"
   ]
  },
  {
   "cell_type": "code",
   "execution_count": null,
   "metadata": {},
   "outputs": [],
   "source": [
    "\n",
    "\n",
    "# optimizer = optim.Adam(model.parameters(), lr=learning_rate)\n",
    "# criterion = nn.CrossEntropyLoss()\n",
    "\n",
    "# Define the training loop\n",
    "def train(epoch):\n",
    "    model.train()\n",
    "    for batch_idx, (data, target) in enumerate(train_loader):\n",
    "        optimizer.zero_grad()\n",
    "        output = model(data)\n",
    "        loss = criterion(output, target)\n",
    "        loss.backward()\n",
    "        optimizer.step()\n",
    "        if batch_idx % 100 == 0:\n",
    "            print('Train Epoch: {} [{}/{} ({:.0f}%)]\\tLoss: {:.6f}'.format(\n",
    "                epoch, batch_idx * len(data), len(train_loader.dataset),\n",
    "                100. * batch_idx / len(train_loader), loss.item()))\n",
    "\n",
    "# Define the testing loop\n",
    "def test():\n",
    "    model.eval()\n",
    "    test_loss = 0\n",
    "    correct = 0\n",
    "    i=0\n",
    "    with torch.no_grad():\n",
    "        for data, target in test_loader:\n",
    "            output = model(data)\n",
    "            # if(i % 500 == 0): print(output)\n",
    "            test_loss += criterion(output, target).item()  # Sum up batch loss\n",
    "            pred = output.argmax(dim=1, keepdim=True)  # Get the index of the max log-probability\n",
    "            correct += pred.eq(target.view_as(pred)).sum().item()\n",
    "            i+=1\n",
    "\n",
    "    test_loss /= len(test_loader.dataset)\n",
    "\n",
    "    print('\\nTest set: Average loss: {:.4f}, Accuracy: {}/{} ({:.0f}%)\\n'.format(\n",
    "                                    test_loss,      correct, len(test_loader.dataset),\n",
    "                                                                100. * correct / len(test_loader.dataset)))\n"
   ]
  },
  {
   "cell_type": "code",
   "execution_count": 17,
   "metadata": {},
   "outputs": [
    {
     "name": "stdout",
     "output_type": "stream",
     "text": [
      "Train Epoch: 1 [0/25000 (0%)]\tLoss: 0.692196\n",
      "\n",
      "Test set: Average loss: 0.0027, Accuracy: 12500/25000 (50%)\n",
      "\n",
      "Train Epoch: 2 [0/25000 (0%)]\tLoss: 0.693583\n",
      "\n",
      "Test set: Average loss: 0.0027, Accuracy: 12500/25000 (50%)\n",
      "\n",
      "Train Epoch: 3 [0/25000 (0%)]\tLoss: 0.694071\n",
      "\n",
      "Test set: Average loss: 0.0027, Accuracy: 12500/25000 (50%)\n",
      "\n",
      "Train Epoch: 4 [0/25000 (0%)]\tLoss: 0.692780\n",
      "\n",
      "Test set: Average loss: 0.0027, Accuracy: 12500/25000 (50%)\n",
      "\n",
      "Train Epoch: 5 [0/25000 (0%)]\tLoss: 0.693540\n",
      "\n",
      "Test set: Average loss: 0.0027, Accuracy: 12500/25000 (50%)\n",
      "\n",
      "Train Epoch: 6 [0/25000 (0%)]\tLoss: 0.694070\n",
      "\n",
      "Test set: Average loss: 0.0027, Accuracy: 12500/25000 (50%)\n",
      "\n",
      "Train Epoch: 7 [0/25000 (0%)]\tLoss: 0.691958\n",
      "\n",
      "Test set: Average loss: 0.0027, Accuracy: 12500/25000 (50%)\n",
      "\n",
      "Train Epoch: 8 [0/25000 (0%)]\tLoss: 0.692355\n",
      "\n",
      "Test set: Average loss: 0.0027, Accuracy: 12500/25000 (50%)\n",
      "\n",
      "Train Epoch: 9 [0/25000 (0%)]\tLoss: 0.693037\n",
      "\n",
      "Test set: Average loss: 0.0027, Accuracy: 12500/25000 (50%)\n",
      "\n",
      "Train Epoch: 10 [0/25000 (0%)]\tLoss: 0.693730\n",
      "\n",
      "Test set: Average loss: 0.0027, Accuracy: 12500/25000 (50%)\n",
      "\n"
     ]
    }
   ],
   "source": [
    "\n",
    "nEpochs = 10\n",
    "\n",
    "# Train the model\n",
    "for epoch in range(1, nEpochs + 1):  # Train for 10 epochs\n",
    "    train(epoch)\n",
    "    test()"
   ]
  }
 ],
 "metadata": {
  "kernelspec": {
   "display_name": "Python 3 (ipykernel)",
   "language": "python",
   "name": "python3"
  }
 },
 "nbformat": 4,
 "nbformat_minor": 2
}
