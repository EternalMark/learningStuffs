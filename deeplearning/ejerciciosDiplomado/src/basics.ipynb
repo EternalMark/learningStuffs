{
 "cells": [
  {
   "cell_type": "markdown",
   "metadata": {
    "id": "5rmpybwysXGV"
   },
   "source": [
    "##### Copyright 2020 The TensorFlow Authors."
   ]
  },
  {
   "cell_type": "code",
   "execution_count": 1,
   "metadata": {
    "cellView": "form",
    "execution": {
     "iopub.execute_input": "2024-10-03T01:24:28.649550Z",
     "iopub.status.busy": "2024-10-03T01:24:28.649331Z",
     "iopub.status.idle": "2024-10-03T01:24:28.652877Z",
     "shell.execute_reply": "2024-10-03T01:24:28.652343Z"
    },
    "id": "m8y3rGtQsYP2"
   },
   "outputs": [],
   "source": [
    "#@title Licensed under the Apache License, Version 2.0 (the \"License\");\n",
    "# you may not use this file except in compliance with the License.\n",
    "# You may obtain a copy of the License at\n",
    "#\n",
    "# https://www.apache.org/licenses/LICENSE-2.0\n",
    "#\n",
    "# Unless required by applicable law or agreed to in writing, software\n",
    "# distributed under the License is distributed on an \"AS IS\" BASIS,\n",
    "# WITHOUT WARRANTIES OR CONDITIONS OF ANY KIND, either express or implied.\n",
    "# See the License for the specific language governing permissions and\n",
    "# limitations under the License."
   ]
  },
  {
   "cell_type": "markdown",
   "metadata": {
    "id": "hrXv0rU9sIma"
   },
   "source": [
    "# TensorFlow basics"
   ]
  },
  {
   "cell_type": "markdown",
   "metadata": {
    "id": "7S0BwJ_8sLu7"
   },
   "source": [
    "<table class=\"tfo-notebook-buttons\" align=\"left\">\n",
    "  <td>\n",
    "    <a target=\"_blank\" href=\"https://www.tensorflow.org/guide/basics\"><img src=\"https://www.tensorflow.org/images/tf_logo_32px.png\" />View on TensorFlow.org</a>\n",
    "  </td>\n",
    "  <td>\n",
    "    <a target=\"_blank\" href=\"https://colab.research.google.com/github/tensorflow/docs/blob/master/site/en/guide/basics.ipynb\"><img src=\"https://www.tensorflow.org/images/colab_logo_32px.png\" />Run in Google Colab</a>\n",
    "  </td>\n",
    "  <td>\n",
    "    <a target=\"_blank\" href=\"https://github.com/tensorflow/docs/blob/master/site/en/guide/basics.ipynb\"><img src=\"https://www.tensorflow.org/images/GitHub-Mark-32px.png\" />View source on GitHub</a>\n",
    "  </td>\n",
    "  <td>\n",
    "    <a href=\"https://storage.googleapis.com/tensorflow_docs/docs/site/en/guide/basics.ipynb\"><img src=\"https://www.tensorflow.org/images/download_logo_32px.png\" />Download notebook</a>\n",
    "  </td>\n",
    "</table>"
   ]
  },
  {
   "cell_type": "markdown",
   "metadata": {
    "id": "iJyZUDbzBTIG"
   },
   "source": [
    "This guide provides a quick overview of _TensorFlow basics_. Each section of this doc is an overview of a larger topic—you can find links to full guides at the end of each section.\n",
    "\n",
    "TensorFlow is an end-to-end platform for machine learning. It supports the following:\n",
    "\n",
    "* Multidimensional-array based numeric computation (similar to <a href=\"https://numpy.org/\" class=\"external\">NumPy</a>.)\n",
    "* GPU and distributed processing\n",
    "* Automatic differentiation\n",
    "* Model construction, training, and export\n",
    "* And more"
   ]
  },
  {
   "cell_type": "markdown",
   "metadata": {
    "id": "gvLegMMvBZYg"
   },
   "source": [
    "## Tensors\n",
    "\n",
    "TensorFlow operates on multidimensional arrays or _tensors_ represented as `tf.Tensor` objects. Here is a two-dimensional tensor:"
   ]
  },
  {
   "cell_type": "code",
   "execution_count": 1,
   "metadata": {
    "execution": {
     "iopub.execute_input": "2024-10-03T01:24:28.656331Z",
     "iopub.status.busy": "2024-10-03T01:24:28.655826Z",
     "iopub.status.idle": "2024-10-03T01:24:33.219072Z",
     "shell.execute_reply": "2024-10-03T01:24:33.218124Z"
    },
    "id": "6ZqX5RnbBS1f"
   },
   "outputs": [
    {
     "name": "stderr",
     "output_type": "stream",
     "text": [
      "2025-02-06 03:20:20.026769: E external/local_xla/xla/stream_executor/cuda/cuda_fft.cc:477] Unable to register cuFFT factory: Attempting to register factory for plugin cuFFT when one has already been registered\n",
      "WARNING: All log messages before absl::InitializeLog() is called are written to STDERR\n",
      "E0000 00:00:1738812020.071598     329 cuda_dnn.cc:8310] Unable to register cuDNN factory: Attempting to register factory for plugin cuDNN when one has already been registered\n",
      "E0000 00:00:1738812020.085359     329 cuda_blas.cc:1418] Unable to register cuBLAS factory: Attempting to register factory for plugin cuBLAS when one has already been registered\n",
      "2025-02-06 03:20:20.182786: I tensorflow/core/platform/cpu_feature_guard.cc:210] This TensorFlow binary is optimized to use available CPU instructions in performance-critical operations.\n",
      "To enable the following instructions: AVX2 FMA, in other operations, rebuild TensorFlow with the appropriate compiler flags.\n"
     ]
    },
    {
     "name": "stdout",
     "output_type": "stream",
     "text": [
      "tf.Tensor(\n",
      "[[1. 2. 3.]\n",
      " [4. 5. 6.]], shape=(2, 3), dtype=float32)\n",
      "(2, 3)\n",
      "<dtype: 'float32'>\n"
     ]
    },
    {
     "name": "stderr",
     "output_type": "stream",
     "text": [
      "I0000 00:00:1738812023.074562     329 gpu_device.cc:2022] Created device /job:localhost/replica:0/task:0/device:GPU:0 with 8204 MB memory:  -> device: 0, name: NVIDIA GeForce RTX 3060, pci bus id: 0000:01:00.0, compute capability: 8.6\n"
     ]
    }
   ],
   "source": [
    "import tensorflow as tf\n",
    "\n",
    "x = tf.constant([[1., 2., 3.],\n",
    "                 [4., 5., 6.]])\n",
    "\n",
    "print(x)\n",
    "print(x.shape)\n",
    "print(x.dtype)"
   ]
  },
  {
   "cell_type": "markdown",
   "metadata": {
    "id": "k-AOMqevQGN4"
   },
   "source": [
    "The most important attributes of a `tf.Tensor` are its `shape` and `dtype`:\n",
    "\n",
    "* `Tensor.shape`: tells you the size of the tensor along each of its axes.\n",
    "* `Tensor.dtype`: tells you the type of all the elements in the tensor."
   ]
  },
  {
   "cell_type": "markdown",
   "metadata": {
    "id": "bUkKeNWZCIJO"
   },
   "source": [
    "TensorFlow implements standard mathematical operations on tensors, as well as many operations specialized for machine learning.\n",
    "\n",
    "For example:"
   ]
  },
  {
   "cell_type": "code",
   "execution_count": 2,
   "metadata": {
    "execution": {
     "iopub.execute_input": "2024-10-03T01:24:33.222921Z",
     "iopub.status.busy": "2024-10-03T01:24:33.222107Z",
     "iopub.status.idle": "2024-10-03T01:24:33.230799Z",
     "shell.execute_reply": "2024-10-03T01:24:33.230196Z"
    },
    "id": "BM7xXNDsBfN5"
   },
   "outputs": [
    {
     "data": {
      "text/plain": [
       "<tf.Tensor: shape=(2, 3), dtype=float32, numpy=\n",
       "array([[ 2.,  4.,  6.],\n",
       "       [ 8., 10., 12.]], dtype=float32)>"
      ]
     },
     "execution_count": 2,
     "metadata": {},
     "output_type": "execute_result"
    }
   ],
   "source": [
    "x + x"
   ]
  },
  {
   "cell_type": "code",
   "execution_count": 3,
   "metadata": {
    "execution": {
     "iopub.execute_input": "2024-10-03T01:24:33.232899Z",
     "iopub.status.busy": "2024-10-03T01:24:33.232688Z",
     "iopub.status.idle": "2024-10-03T01:24:33.240447Z",
     "shell.execute_reply": "2024-10-03T01:24:33.239875Z"
    },
    "id": "ZLGqscTxB61v"
   },
   "outputs": [
    {
     "data": {
      "text/plain": [
       "<tf.Tensor: shape=(2, 3), dtype=float32, numpy=\n",
       "array([[ 5., 10., 15.],\n",
       "       [20., 25., 30.]], dtype=float32)>"
      ]
     },
     "execution_count": 3,
     "metadata": {},
     "output_type": "execute_result"
    }
   ],
   "source": [
    "5 * x"
   ]
  },
  {
   "cell_type": "code",
   "execution_count": 4,
   "metadata": {
    "execution": {
     "iopub.execute_input": "2024-10-03T01:24:33.242758Z",
     "iopub.status.busy": "2024-10-03T01:24:33.242393Z",
     "iopub.status.idle": "2024-10-03T01:24:33.343899Z",
     "shell.execute_reply": "2024-10-03T01:24:33.343350Z"
    },
    "id": "2ImJHd8VfnWq"
   },
   "outputs": [
    {
     "data": {
      "text/plain": [
       "<tf.Tensor: shape=(2, 2), dtype=float32, numpy=\n",
       "array([[14., 32.],\n",
       "       [32., 77.]], dtype=float32)>"
      ]
     },
     "execution_count": 4,
     "metadata": {},
     "output_type": "execute_result"
    }
   ],
   "source": [
    "x @ tf.transpose(x)"
   ]
  },
  {
   "cell_type": "code",
   "execution_count": 5,
   "metadata": {
    "execution": {
     "iopub.execute_input": "2024-10-03T01:24:33.346780Z",
     "iopub.status.busy": "2024-10-03T01:24:33.346183Z",
     "iopub.status.idle": "2024-10-03T01:24:33.353557Z",
     "shell.execute_reply": "2024-10-03T01:24:33.353014Z"
    },
    "id": "U9JZD6TYCZWu"
   },
   "outputs": [
    {
     "data": {
      "text/plain": [
       "<tf.Tensor: shape=(6, 3), dtype=float32, numpy=\n",
       "array([[1., 2., 3.],\n",
       "       [4., 5., 6.],\n",
       "       [1., 2., 3.],\n",
       "       [4., 5., 6.],\n",
       "       [1., 2., 3.],\n",
       "       [4., 5., 6.]], dtype=float32)>"
      ]
     },
     "execution_count": 5,
     "metadata": {},
     "output_type": "execute_result"
    }
   ],
   "source": [
    "tf.concat([x, x, x], axis=0)"
   ]
  },
  {
   "cell_type": "code",
   "execution_count": 6,
   "metadata": {
    "execution": {
     "iopub.execute_input": "2024-10-03T01:24:33.356195Z",
     "iopub.status.busy": "2024-10-03T01:24:33.355682Z",
     "iopub.status.idle": "2024-10-03T01:24:33.367105Z",
     "shell.execute_reply": "2024-10-03T01:24:33.366502Z"
    },
    "id": "seGBLeD9P_PI"
   },
   "outputs": [
    {
     "data": {
      "text/plain": [
       "<tf.Tensor: shape=(2, 3), dtype=float32, numpy=\n",
       "array([[0.09003057, 0.24472848, 0.66524094],\n",
       "       [0.09003057, 0.24472848, 0.66524094]], dtype=float32)>"
      ]
     },
     "execution_count": 6,
     "metadata": {},
     "output_type": "execute_result"
    }
   ],
   "source": [
    "tf.nn.softmax(x, axis=-1)"
   ]
  },
  {
   "cell_type": "code",
   "execution_count": 7,
   "metadata": {
    "execution": {
     "iopub.execute_input": "2024-10-03T01:24:33.369300Z",
     "iopub.status.busy": "2024-10-03T01:24:33.369075Z",
     "iopub.status.idle": "2024-10-03T01:24:33.377650Z",
     "shell.execute_reply": "2024-10-03T01:24:33.377035Z"
    },
    "id": "YZNZRv1ECjf8"
   },
   "outputs": [
    {
     "data": {
      "text/plain": [
       "<tf.Tensor: shape=(), dtype=float32, numpy=21.0>"
      ]
     },
     "execution_count": 7,
     "metadata": {},
     "output_type": "execute_result"
    }
   ],
   "source": [
    "tf.reduce_sum(x)"
   ]
  },
  {
   "cell_type": "markdown",
   "metadata": {
    "id": "TNHnIjOVLJfA"
   },
   "source": [
    "Note: Typically, anywhere a TensorFlow function expects a `Tensor` as input, the function will also accept anything that can be converted to a `Tensor` using `tf.convert_to_tensor`. See below for an example."
   ]
  },
  {
   "cell_type": "code",
   "execution_count": 8,
   "metadata": {
    "execution": {
     "iopub.execute_input": "2024-10-03T01:24:33.380172Z",
     "iopub.status.busy": "2024-10-03T01:24:33.379769Z",
     "iopub.status.idle": "2024-10-03T01:24:33.384679Z",
     "shell.execute_reply": "2024-10-03T01:24:33.384097Z"
    },
    "id": "i_XKgjDsL4GE"
   },
   "outputs": [
    {
     "data": {
      "text/plain": [
       "<tf.Tensor: shape=(3,), dtype=int32, numpy=array([1, 2, 3], dtype=int32)>"
      ]
     },
     "execution_count": 8,
     "metadata": {},
     "output_type": "execute_result"
    }
   ],
   "source": [
    "tf.convert_to_tensor([1,2,3])"
   ]
  },
  {
   "cell_type": "code",
   "execution_count": 9,
   "metadata": {
    "execution": {
     "iopub.execute_input": "2024-10-03T01:24:33.387030Z",
     "iopub.status.busy": "2024-10-03T01:24:33.386516Z",
     "iopub.status.idle": "2024-10-03T01:24:33.394305Z",
     "shell.execute_reply": "2024-10-03T01:24:33.393775Z"
    },
    "id": "wTBt-JUqLJDJ"
   },
   "outputs": [
    {
     "data": {
      "text/plain": [
       "<tf.Tensor: shape=(), dtype=int32, numpy=6>"
      ]
     },
     "execution_count": 9,
     "metadata": {},
     "output_type": "execute_result"
    }
   ],
   "source": [
    "tf.reduce_sum([1,2,3])"
   ]
  },
  {
   "cell_type": "markdown",
   "metadata": {
    "id": "8-mi5031DVxz"
   },
   "source": [
    "Running large calculations on CPU can be slow. When properly configured, TensorFlow can use accelerator hardware like GPUs to execute operations very quickly."
   ]
  },
  {
   "cell_type": "code",
   "execution_count": 10,
   "metadata": {
    "execution": {
     "iopub.execute_input": "2024-10-03T01:24:33.397101Z",
     "iopub.status.busy": "2024-10-03T01:24:33.396538Z",
     "iopub.status.idle": "2024-10-03T01:24:33.400162Z",
     "shell.execute_reply": "2024-10-03T01:24:33.399607Z"
    },
    "id": "m97Gv5H6Dz0G"
   },
   "outputs": [
    {
     "name": "stdout",
     "output_type": "stream",
     "text": [
      "TensorFlow **IS NOT** using the GPU\n"
     ]
    }
   ],
   "source": [
    "if tf.config.list_physical_devices('GPU'):\n",
    "  print(\"TensorFlow **IS** using the GPU\")\n",
    "else:\n",
    "  print(\"TensorFlow **IS NOT** using the GPU\")"
   ]
  },
  {
   "cell_type": "markdown",
   "metadata": {
    "id": "ln2FkLOqMX92"
   },
   "source": [
    "Refer to the [Tensor guide](tensor.ipynb) for details."
   ]
  },
  {
   "cell_type": "markdown",
   "metadata": {
    "id": "oVbomvMyEIVF"
   },
   "source": [
    "## Variables\n",
    "\n",
    "Normal `tf.Tensor` objects are immutable. To store model weights (or other mutable state) in TensorFlow use a `tf.Variable`."
   ]
  },
  {
   "cell_type": "code",
   "execution_count": 11,
   "metadata": {
    "execution": {
     "iopub.execute_input": "2024-10-03T01:24:33.403000Z",
     "iopub.status.busy": "2024-10-03T01:24:33.402395Z",
     "iopub.status.idle": "2024-10-03T01:24:33.408158Z",
     "shell.execute_reply": "2024-10-03T01:24:33.407556Z"
    },
    "id": "SO8_bP4UEzxS"
   },
   "outputs": [],
   "source": [
    "var = tf.Variable([0.0, 0.0, 0.0])"
   ]
  },
  {
   "cell_type": "code",
   "execution_count": 12,
   "metadata": {
    "execution": {
     "iopub.execute_input": "2024-10-03T01:24:33.410290Z",
     "iopub.status.busy": "2024-10-03T01:24:33.410082Z",
     "iopub.status.idle": "2024-10-03T01:24:33.416279Z",
     "shell.execute_reply": "2024-10-03T01:24:33.415744Z"
    },
    "id": "aDLYFvu5FAFa"
   },
   "outputs": [
    {
     "data": {
      "text/plain": [
       "<tf.Variable 'UnreadVariable' shape=(3,) dtype=float32, numpy=array([1., 2., 3.], dtype=float32)>"
      ]
     },
     "execution_count": 12,
     "metadata": {},
     "output_type": "execute_result"
    }
   ],
   "source": [
    "var.assign([1, 2, 3])"
   ]
  },
  {
   "cell_type": "code",
   "execution_count": 13,
   "metadata": {
    "execution": {
     "iopub.execute_input": "2024-10-03T01:24:33.418971Z",
     "iopub.status.busy": "2024-10-03T01:24:33.418448Z",
     "iopub.status.idle": "2024-10-03T01:24:33.425581Z",
     "shell.execute_reply": "2024-10-03T01:24:33.424978Z"
    },
    "id": "9EpiOmxXFDSS"
   },
   "outputs": [
    {
     "data": {
      "text/plain": [
       "<tf.Variable 'UnreadVariable' shape=(3,) dtype=float32, numpy=array([2., 3., 4.], dtype=float32)>"
      ]
     },
     "execution_count": 13,
     "metadata": {},
     "output_type": "execute_result"
    }
   ],
   "source": [
    "var.assign_add([1, 1, 1])"
   ]
  },
  {
   "cell_type": "markdown",
   "metadata": {
    "id": "tlvTpi1CMedC"
   },
   "source": [
    "Refer to the [Variables guide](variable.ipynb) for details."
   ]
  },
  {
   "cell_type": "markdown",
   "metadata": {
    "id": "rG1Dhv2QFkV3"
   },
   "source": [
    "## Automatic differentiation\n",
    "\n",
    "<a href=\"https://en.wikipedia.org/wiki/Gradient_descent\" class=\"external\">_Gradient descent_</a> and related algorithms are a cornerstone of modern machine learning.\n",
    "\n",
    "To enable this, TensorFlow implements automatic differentiation (autodiff), which uses calculus to compute gradients. Typically you'll use this to calculate the gradient of a model's _error_ or _loss_ with respect to its weights."
   ]
  },
  {
   "cell_type": "code",
   "execution_count": 14,
   "metadata": {
    "execution": {
     "iopub.execute_input": "2024-10-03T01:24:33.428430Z",
     "iopub.status.busy": "2024-10-03T01:24:33.427862Z",
     "iopub.status.idle": "2024-10-03T01:24:33.433406Z",
     "shell.execute_reply": "2024-10-03T01:24:33.432856Z"
    },
    "id": "cYKOi-z4GY9Y"
   },
   "outputs": [],
   "source": [
    "x = tf.Variable(1.0)\n",
    "\n",
    "def f(x):\n",
    "  y = x**2 + 2*x - 5\n",
    "  return y"
   ]
  },
  {
   "cell_type": "code",
   "execution_count": 15,
   "metadata": {
    "execution": {
     "iopub.execute_input": "2024-10-03T01:24:33.435577Z",
     "iopub.status.busy": "2024-10-03T01:24:33.435369Z",
     "iopub.status.idle": "2024-10-03T01:24:33.898564Z",
     "shell.execute_reply": "2024-10-03T01:24:33.897876Z"
    },
    "id": "IQz99cxMGoF_"
   },
   "outputs": [
    {
     "data": {
      "text/plain": [
       "<tf.Tensor: shape=(), dtype=float32, numpy=-2.0>"
      ]
     },
     "execution_count": 15,
     "metadata": {},
     "output_type": "execute_result"
    }
   ],
   "source": [
    "f(x)"
   ]
  },
  {
   "cell_type": "markdown",
   "metadata": {
    "id": "ozLLop0cHeYl"
   },
   "source": [
    "At `x = 1.0`, `y = f(x) = (1**2 + 2*1 - 5) = -2`.\n",
    "\n",
    "The derivative of `y` is `y' = f'(x) = (2*x + 2) = 4`. TensorFlow can calculate this automatically:"
   ]
  },
  {
   "cell_type": "code",
   "execution_count": 16,
   "metadata": {
    "execution": {
     "iopub.execute_input": "2024-10-03T01:24:33.901536Z",
     "iopub.status.busy": "2024-10-03T01:24:33.901280Z",
     "iopub.status.idle": "2024-10-03T01:24:33.912420Z",
     "shell.execute_reply": "2024-10-03T01:24:33.911824Z"
    },
    "id": "N02NfWpHGvw8"
   },
   "outputs": [
    {
     "data": {
      "text/plain": [
       "<tf.Tensor: shape=(), dtype=float32, numpy=4.0>"
      ]
     },
     "execution_count": 16,
     "metadata": {},
     "output_type": "execute_result"
    }
   ],
   "source": [
    "with tf.GradientTape() as tape:\n",
    "  y = f(x)\n",
    "\n",
    "g_x = tape.gradient(y, x)  # g(x) = dy/dx\n",
    "\n",
    "g_x"
   ]
  },
  {
   "cell_type": "markdown",
   "metadata": {
    "id": "s-DVYJfcIRPd"
   },
   "source": [
    "This simplified example only takes the derivative with respect to a single scalar (`x`), but TensorFlow can compute the gradient with respect to any number of non-scalar tensors simultaneously."
   ]
  },
  {
   "cell_type": "markdown",
   "metadata": {
    "id": "ECK3I9bUMk_r"
   },
   "source": [
    "Refer to the [Autodiff guide](autodiff.ipynb) for details."
   ]
  },
  {
   "cell_type": "markdown",
   "metadata": {
    "id": "VglUM4M3KhNz"
   },
   "source": [
    "## Graphs and tf.function\n",
    "\n",
    "While you can use TensorFlow interactively like any Python library, TensorFlow also provides tools for:\n",
    "\n",
    "* **Performance optimization**: to speed up training and inference.\n",
    "* **Export**: so you can save your model when it's done training.\n",
    "\n",
    "These require that you use `tf.function` to separate your pure-TensorFlow code from Python."
   ]
  },
  {
   "cell_type": "code",
   "execution_count": 17,
   "metadata": {
    "execution": {
     "iopub.execute_input": "2024-10-03T01:24:33.915460Z",
     "iopub.status.busy": "2024-10-03T01:24:33.915078Z",
     "iopub.status.idle": "2024-10-03T01:24:33.918767Z",
     "shell.execute_reply": "2024-10-03T01:24:33.918165Z"
    },
    "id": "VitACyZWKJD_"
   },
   "outputs": [],
   "source": [
    "@tf.function\n",
    "def my_func(x):\n",
    "  print('Tracing.\\n')\n",
    "  return tf.reduce_sum(x)"
   ]
  },
  {
   "cell_type": "markdown",
   "metadata": {
    "id": "fBYDh-huNUBZ"
   },
   "source": [
    "The first time you run the `tf.function`, although it executes in Python, it captures a complete, optimized graph representing the TensorFlow computations done within the function."
   ]
  },
  {
   "cell_type": "code",
   "execution_count": 18,
   "metadata": {
    "execution": {
     "iopub.execute_input": "2024-10-03T01:24:33.921435Z",
     "iopub.status.busy": "2024-10-03T01:24:33.921055Z",
     "iopub.status.idle": "2024-10-03T01:24:33.971502Z",
     "shell.execute_reply": "2024-10-03T01:24:33.970902Z"
    },
    "id": "vkOFSEkoM1bd"
   },
   "outputs": [
    {
     "name": "stdout",
     "output_type": "stream",
     "text": [
      "Tracing.\n",
      "\n"
     ]
    },
    {
     "data": {
      "text/plain": [
       "<tf.Tensor: shape=(), dtype=int32, numpy=6>"
      ]
     },
     "execution_count": 18,
     "metadata": {},
     "output_type": "execute_result"
    }
   ],
   "source": [
    "x = tf.constant([1, 2, 3])\n",
    "my_func(x)"
   ]
  },
  {
   "cell_type": "markdown",
   "metadata": {
    "id": "a3aWzt-rNsBa"
   },
   "source": [
    "On subsequent calls TensorFlow only executes the optimized graph, skipping any non-TensorFlow steps. Below, note that `my_func` doesn't print _tracing_ since `print` is a Python function, not a TensorFlow function."
   ]
  },
  {
   "cell_type": "code",
   "execution_count": 19,
   "metadata": {
    "execution": {
     "iopub.execute_input": "2024-10-03T01:24:33.974470Z",
     "iopub.status.busy": "2024-10-03T01:24:33.973889Z",
     "iopub.status.idle": "2024-10-03T01:24:33.978965Z",
     "shell.execute_reply": "2024-10-03T01:24:33.978434Z"
    },
    "id": "23dMHWwwNIoa"
   },
   "outputs": [
    {
     "data": {
      "text/plain": [
       "<tf.Tensor: shape=(), dtype=int32, numpy=27>"
      ]
     },
     "execution_count": 19,
     "metadata": {},
     "output_type": "execute_result"
    }
   ],
   "source": [
    "x = tf.constant([10, 9, 8])\n",
    "my_func(x)"
   ]
  },
  {
   "cell_type": "markdown",
   "metadata": {
    "id": "nSeTti6zki0n"
   },
   "source": [
    "A graph may not be reusable for inputs with a different _signature_ (`shape` and `dtype`), so a new graph is generated instead:"
   ]
  },
  {
   "cell_type": "code",
   "execution_count": 20,
   "metadata": {
    "execution": {
     "iopub.execute_input": "2024-10-03T01:24:33.981873Z",
     "iopub.status.busy": "2024-10-03T01:24:33.981323Z",
     "iopub.status.idle": "2024-10-03T01:24:34.001813Z",
     "shell.execute_reply": "2024-10-03T01:24:34.001272Z"
    },
    "id": "OWffqyhqlVPf"
   },
   "outputs": [
    {
     "name": "stdout",
     "output_type": "stream",
     "text": [
      "Tracing.\n",
      "\n"
     ]
    },
    {
     "data": {
      "text/plain": [
       "<tf.Tensor: shape=(), dtype=float32, numpy=27.299999237060547>"
      ]
     },
     "execution_count": 20,
     "metadata": {},
     "output_type": "execute_result"
    }
   ],
   "source": [
    "x = tf.constant([10.0, 9.1, 8.2], dtype=tf.float32)\n",
    "my_func(x)"
   ]
  },
  {
   "cell_type": "markdown",
   "metadata": {
    "id": "UWknAA_zNTOa"
   },
   "source": [
    "These captured graphs provide two benefits:\n",
    "\n",
    "* In many cases they provide a significant speedup in execution (though not this trivial example).\n",
    "* You can export these graphs, using `tf.saved_model`, to run on other systems like a [server](https://www.tensorflow.org/tfx/serving/docker) or a [mobile device](https://www.tensorflow.org/lite/guide), no Python installation required."
   ]
  },
  {
   "cell_type": "markdown",
   "metadata": {
    "id": "hLUJ6f2eMsA8"
   },
   "source": [
    "Refer to [Intro to graphs](intro_to_graphs.ipynb) for more details."
   ]
  },
  {
   "cell_type": "markdown",
   "metadata": {
    "id": "t_36xPDPPBqp"
   },
   "source": [
    "## Modules, layers, and models"
   ]
  },
  {
   "cell_type": "markdown",
   "metadata": {
    "id": "oDaT7kCpUgnJ"
   },
   "source": [
    "`tf.Module` is a class for managing your `tf.Variable` objects, and the `tf.function` objects that operate on them. The `tf.Module` class is necessary to support two significant features:\n",
    "\n",
    "1. You can save and restore the values of your variables using `tf.train.Checkpoint`. This is useful during training as it is quick to save and restore a model's state.\n",
    "2. You can import and export the `tf.Variable` values _and_ the `tf.function` graphs using `tf.saved_model`. This allows you to run your model independently of the Python program that created it.\n",
    "\n",
    "Here is a complete example exporting a simple `tf.Module` object:"
   ]
  },
  {
   "cell_type": "code",
   "execution_count": 2,
   "metadata": {
    "execution": {
     "iopub.execute_input": "2024-10-03T01:24:34.004530Z",
     "iopub.status.busy": "2024-10-03T01:24:34.004114Z",
     "iopub.status.idle": "2024-10-03T01:24:34.008293Z",
     "shell.execute_reply": "2024-10-03T01:24:34.007591Z"
    },
    "id": "1MqEcZOqPBDV"
   },
   "outputs": [],
   "source": [
    "class MyModule(tf.Module):\n",
    "  def __init__(self, value):\n",
    "    self.weight = tf.Variable(value)\n",
    "\n",
    "  @tf.function\n",
    "  def multiply(self, x):\n",
    "    return x * self.weight"
   ]
  },
  {
   "cell_type": "code",
   "execution_count": 3,
   "metadata": {
    "execution": {
     "iopub.execute_input": "2024-10-03T01:24:34.010445Z",
     "iopub.status.busy": "2024-10-03T01:24:34.010230Z",
     "iopub.status.idle": "2024-10-03T01:24:34.050277Z",
     "shell.execute_reply": "2024-10-03T01:24:34.049744Z"
    },
    "id": "la2G82HfVfU0"
   },
   "outputs": [
    {
     "data": {
      "text/plain": [
       "<tf.Tensor: shape=(3,), dtype=int32, numpy=array([3, 6, 9], dtype=int32)>"
      ]
     },
     "execution_count": 3,
     "metadata": {},
     "output_type": "execute_result"
    }
   ],
   "source": [
    "mod = MyModule(3)\n",
    "mod.multiply(tf.constant([1, 2, 3]))"
   ]
  },
  {
   "cell_type": "markdown",
   "metadata": {
    "id": "GaSJX7zQXCm4"
   },
   "source": [
    "Save the `Module`:"
   ]
  },
  {
   "cell_type": "code",
   "execution_count": 4,
   "metadata": {
    "execution": {
     "iopub.execute_input": "2024-10-03T01:24:34.052913Z",
     "iopub.status.busy": "2024-10-03T01:24:34.052685Z",
     "iopub.status.idle": "2024-10-03T01:24:34.113860Z",
     "shell.execute_reply": "2024-10-03T01:24:34.113286Z"
    },
    "id": "1MlfbEMjVzG4"
   },
   "outputs": [
    {
     "name": "stdout",
     "output_type": "stream",
     "text": [
      "INFO:tensorflow:Assets written to: ./saved/assets\n"
     ]
    },
    {
     "name": "stderr",
     "output_type": "stream",
     "text": [
      "INFO:tensorflow:Assets written to: ./saved/assets\n"
     ]
    }
   ],
   "source": [
    "save_path = './saved'\n",
    "tf.saved_model.save(mod, save_path)"
   ]
  },
  {
   "cell_type": "markdown",
   "metadata": {
    "id": "LgfoftD4XGJW"
   },
   "source": [
    "The resulting SavedModel is independent of the code that created it. You can load a SavedModel from Python, other language bindings, or [TensorFlow Serving](https://www.tensorflow.org/tfx/serving/docker). You can also convert it to run with [TensorFlow Lite](https://www.tensorflow.org/lite/guide) or [TensorFlow JS](https://www.tensorflow.org/js/guide)."
   ]
  },
  {
   "cell_type": "code",
   "execution_count": 24,
   "metadata": {
    "execution": {
     "iopub.execute_input": "2024-10-03T01:24:34.116897Z",
     "iopub.status.busy": "2024-10-03T01:24:34.116338Z",
     "iopub.status.idle": "2024-10-03T01:24:34.156678Z",
     "shell.execute_reply": "2024-10-03T01:24:34.156118Z"
    },
    "id": "pWuLOIKBWZYG"
   },
   "outputs": [
    {
     "data": {
      "text/plain": [
       "<tf.Tensor: shape=(3,), dtype=int32, numpy=array([3, 6, 9], dtype=int32)>"
      ]
     },
     "execution_count": 24,
     "metadata": {},
     "output_type": "execute_result"
    }
   ],
   "source": [
    "reloaded = tf.saved_model.load(save_path)\n",
    "reloaded.multiply(tf.constant([1, 2, 3]))"
   ]
  },
  {
   "cell_type": "markdown",
   "metadata": {
    "id": "nxU6P1RGwHyC"
   },
   "source": [
    "The `tf.keras.layers.Layer` and `tf.keras.Model` classes build on `tf.Module` providing additional functionality and convenience methods for building, training, and saving models. Some of these are demonstrated in the next section."
   ]
  },
  {
   "cell_type": "markdown",
   "metadata": {
    "id": "tQzt3yaWMzLf"
   },
   "source": [
    "Refer to [Intro to modules](intro_to_modules.ipynb) for details."
   ]
  },
  {
   "cell_type": "code",
   "execution_count": 7,
   "metadata": {},
   "outputs": [],
   "source": [
    "import numpy as np"
   ]
  },
  {
   "cell_type": "code",
   "execution_count": 27,
   "metadata": {},
   "outputs": [],
   "source": [
    "class ComputeSum(tf.keras.layers.Layer):\n",
    " def __init__(self, input_dim):\n",
    "     super(ComputeSum, self).__init__()\n",
    "     # Create a non-trainable weight.\n",
    "     self.total = self.add_weight(\n",
    "       shape=(),\n",
    "      #  shape=(input_dim,),\n",
    "       initializer=\"zeros\",\n",
    "       trainable=False,\n",
    "       name=\"total\",\n",
    "     )\n",
    "\n",
    " def call(self, inputs):\n",
    "     self.total.assign(self.total + np.sum(inputs))\n",
    "     return self.total\n"
   ]
  },
  {
   "cell_type": "code",
   "execution_count": 28,
   "metadata": {},
   "outputs": [
    {
     "name": "stdout",
     "output_type": "stream",
     "text": [
      "<Variable path=compute_sum_10/total, shape=(), dtype=float32, value=4.0>\n"
     ]
    }
   ],
   "source": [
    "my_sum = ComputeSum(2)\n",
    "x = tf.ones((2, 2))\n",
    "y = my_sum(x)\n",
    "\n",
    "print(y)\n",
    "assert my_sum.weights == [my_sum.total]\n",
    "assert my_sum.non_trainable_weights == [my_sum.total]\n",
    "assert my_sum.trainable_weights == []"
   ]
  },
  {
   "cell_type": "code",
   "execution_count": 29,
   "metadata": {},
   "outputs": [
    {
     "name": "stdout",
     "output_type": "stream",
     "text": [
      "<Variable path=compute_sum_11/total, shape=(), dtype=float32, value=4.0>\n"
     ]
    }
   ],
   "source": [
    "my_sum = ComputeSum(1)\n",
    "x = tf.ones((2, 2))\n",
    "y = my_sum(x)\n",
    "\n",
    "print(y)"
   ]
  },
  {
   "cell_type": "code",
   "execution_count": 30,
   "metadata": {},
   "outputs": [
    {
     "name": "stdout",
     "output_type": "stream",
     "text": [
      "<Variable path=compute_sum_12/total, shape=(), dtype=float32, value=4.0>\n"
     ]
    }
   ],
   "source": [
    "my_sum = ComputeSum(20)\n",
    "x = tf.ones((2, 2))\n",
    "y = my_sum(x)\n",
    "\n",
    "print(y)"
   ]
  },
  {
   "cell_type": "code",
   "execution_count": 32,
   "metadata": {},
   "outputs": [
    {
     "name": "stdout",
     "output_type": "stream",
     "text": [
      "<Variable path=compute_sum_14/total, shape=(), dtype=float32, value=16.0>\n"
     ]
    }
   ],
   "source": [
    "my_sum = ComputeSum(20)\n",
    "x = tf.ones((4, 4))\n",
    "y = my_sum(x)\n",
    "\n",
    "print(y)"
   ]
  },
  {
   "cell_type": "markdown",
   "metadata": {
    "id": "Rk1IEG5aav7X"
   },
   "source": [
    "## Training loops\n",
    "\n",
    "Now put this all together to build a basic model and train it from scratch.\n",
    "\n",
    "First, create some example data. This generates a cloud of points that loosely follows a quadratic curve:"
   ]
  },
  {
   "cell_type": "code",
   "execution_count": 26,
   "metadata": {
    "execution": {
     "iopub.execute_input": "2024-10-03T01:24:34.159865Z",
     "iopub.status.busy": "2024-10-03T01:24:34.159311Z",
     "iopub.status.idle": "2024-10-03T01:24:34.777173Z",
     "shell.execute_reply": "2024-10-03T01:24:34.776280Z"
    },
    "id": "VcuFr7KPRPzn"
   },
   "outputs": [],
   "source": [
    "import matplotlib\n",
    "from matplotlib import pyplot as plt\n",
    "\n",
    "matplotlib.rcParams['figure.figsize'] = [9, 6]"
   ]
  },
  {
   "cell_type": "code",
   "execution_count": 27,
   "metadata": {
    "execution": {
     "iopub.execute_input": "2024-10-03T01:24:34.780713Z",
     "iopub.status.busy": "2024-10-03T01:24:34.780450Z",
     "iopub.status.idle": "2024-10-03T01:24:35.738054Z",
     "shell.execute_reply": "2024-10-03T01:24:35.737316Z"
    },
    "id": "sXN9E_xf-GiP"
   },
   "outputs": [
    {
     "data": {
      "image/png": "[encoded data removed]",
      "text/plain": [
       "<Figure size 900x600 with 1 Axes>"
      ]
     },
     "metadata": {},
     "output_type": "display_data"
    }
   ],
   "source": [
    "x = tf.linspace(-2, 2, 201)\n",
    "x = tf.cast(x, tf.float32)\n",
    "\n",
    "def f(x):\n",
    "  y = x**2 + 2*x - 5\n",
    "  return y\n",
    "\n",
    "y = f(x) + tf.random.normal(shape=[201])\n",
    "\n",
    "plt.plot(x.numpy(), y.numpy(), '.', label='Data')\n",
    "plt.plot(x, f(x), label='Ground truth')\n",
    "plt.legend();"
   ]
  },
  {
   "cell_type": "markdown",
   "metadata": {
    "id": "De5LldboSWcW"
   },
   "source": [
    "Create a quadratic model with randomly initialized weights and a bias:"
   ]
  },
  {
   "cell_type": "code",
   "execution_count": 28,
   "metadata": {
    "execution": {
     "iopub.execute_input": "2024-10-03T01:24:35.740977Z",
     "iopub.status.busy": "2024-10-03T01:24:35.740741Z",
     "iopub.status.idle": "2024-10-03T01:24:35.746188Z",
     "shell.execute_reply": "2024-10-03T01:24:35.745559Z"
    },
    "id": "Pypd0GB4SRhf"
   },
   "outputs": [],
   "source": [
    "class Model(tf.Module):\n",
    "\n",
    "  def __init__(self):\n",
    "    # Randomly generate weight and bias terms\n",
    "    rand_init = tf.random.uniform(shape=[3], minval=0., maxval=5., seed=22)\n",
    "    # Initialize model parameters\n",
    "    self.w_q = tf.Variable(rand_init[0])\n",
    "    self.w_l = tf.Variable(rand_init[1])\n",
    "    self.b = tf.Variable(rand_init[2])\n",
    "  \n",
    "  @tf.function\n",
    "  def __call__(self, x):\n",
    "    # Quadratic Model : quadratic_weight * x^2 + linear_weight * x + bias\n",
    "    return self.w_q * (x**2) + self.w_l * x + self.b"
   ]
  },
  {
   "cell_type": "markdown",
   "metadata": {
    "id": "36o7VjaesScg"
   },
   "source": [
    "First, observe your model's performance before training:"
   ]
  },
  {
   "cell_type": "code",
   "execution_count": 29,
   "metadata": {
    "execution": {
     "iopub.execute_input": "2024-10-03T01:24:35.748755Z",
     "iopub.status.busy": "2024-10-03T01:24:35.748532Z",
     "iopub.status.idle": "2024-10-03T01:24:35.755882Z",
     "shell.execute_reply": "2024-10-03T01:24:35.755290Z"
    },
    "id": "GkwToC5BWV1c"
   },
   "outputs": [],
   "source": [
    "quad_model = Model()"
   ]
  },
  {
   "cell_type": "code",
   "execution_count": 30,
   "metadata": {
    "execution": {
     "iopub.execute_input": "2024-10-03T01:24:35.758276Z",
     "iopub.status.busy": "2024-10-03T01:24:35.758023Z",
     "iopub.status.idle": "2024-10-03T01:24:35.761943Z",
     "shell.execute_reply": "2024-10-03T01:24:35.761380Z"
    },
    "id": "ReWhH40wTY5F"
   },
   "outputs": [],
   "source": [
    "def plot_preds(x, y, f, model, title):\n",
    "  plt.figure()\n",
    "  plt.plot(x, y, '.', label='Data')\n",
    "  plt.plot(x, f(x), label='Ground truth')\n",
    "  plt.plot(x, model(x), label='Predictions')\n",
    "  plt.title(title)\n",
    "  plt.legend()"
   ]
  },
  {
   "cell_type": "code",
   "execution_count": 31,
   "metadata": {
    "execution": {
     "iopub.execute_input": "2024-10-03T01:24:35.764518Z",
     "iopub.status.busy": "2024-10-03T01:24:35.763954Z",
     "iopub.status.idle": "2024-10-03T01:24:36.081255Z",
     "shell.execute_reply": "2024-10-03T01:24:36.080552Z"
    },
    "id": "Y0JtXQat-nlk"
   },
   "outputs": [
    {
     "data": {
      "image/png": "[encoded data removed]",
      "text/plain": [
       "<Figure size 900x600 with 1 Axes>"
      ]
     },
     "metadata": {},
     "output_type": "display_data"
    }
   ],
   "source": [
    "plot_preds(x, y, f, quad_model, 'Before training')"
   ]
  },
  {
   "cell_type": "markdown",
   "metadata": {
    "id": "hLzwD0-ascGf"
   },
   "source": [
    "Now, define a loss for your model:\n",
    "\n",
    "Given that this model is intended to predict continuous values, the mean squared error (MSE) is a good choice for the loss function. Given a vector of predictions, $\\hat{y}$, and a vector of true targets, $y$, the MSE is defined as the mean of the squared differences between the predicted values and the ground truth.\n",
    "\n",
    "$MSE = \\frac{1}{m}\\sum_{i=1}^{m}(\\hat{y}_i -y_i)^2$"
   ]
  },
  {
   "cell_type": "code",
   "execution_count": 32,
   "metadata": {
    "execution": {
     "iopub.execute_input": "2024-10-03T01:24:36.084113Z",
     "iopub.status.busy": "2024-10-03T01:24:36.083877Z",
     "iopub.status.idle": "2024-10-03T01:24:36.087313Z",
     "shell.execute_reply": "2024-10-03T01:24:36.086692Z"
    },
    "id": "eCtJ1uuCseZd"
   },
   "outputs": [],
   "source": [
    "def mse_loss(y_pred, y):\n",
    "  return tf.reduce_mean(tf.square(y_pred - y))"
   ]
  },
  {
   "cell_type": "markdown",
   "metadata": {
    "id": "7EWyDu3zot2w"
   },
   "source": [
    "Write a basic training loop for the model. The loop will make use of the MSE loss function and its gradients with respect to the input in order to iteratively update the model's parameters. Using mini-batches for training provides both memory efficiency and faster convergence. The `tf.data.Dataset` API has useful functions for batching and shuffling."
   ]
  },
  {
   "cell_type": "code",
   "execution_count": 33,
   "metadata": {
    "execution": {
     "iopub.execute_input": "2024-10-03T01:24:36.089946Z",
     "iopub.status.busy": "2024-10-03T01:24:36.089734Z",
     "iopub.status.idle": "2024-10-03T01:24:36.099499Z",
     "shell.execute_reply": "2024-10-03T01:24:36.098910Z"
    },
    "id": "8kX_-zily2Ia"
   },
   "outputs": [],
   "source": [
    "batch_size = 32\n",
    "dataset = tf.data.Dataset.from_tensor_slices((x, y))\n",
    "dataset = dataset.shuffle(buffer_size=x.shape[0]).batch(batch_size)"
   ]
  },
  {
   "cell_type": "code",
   "execution_count": 34,
   "metadata": {
    "execution": {
     "iopub.execute_input": "2024-10-03T01:24:36.102086Z",
     "iopub.status.busy": "2024-10-03T01:24:36.101874Z",
     "iopub.status.idle": "2024-10-03T01:24:39.873242Z",
     "shell.execute_reply": "2024-10-03T01:24:39.872519Z"
    },
    "id": "nOaES5gyTDtG"
   },
   "outputs": [
    {
     "name": "stderr",
     "output_type": "stream",
     "text": [
      "2025-01-25 15:39:59.473496: I tensorflow/core/framework/local_rendezvous.cc:405] Local rendezvous is aborting with status: OUT_OF_RANGE: End of sequence\n",
      "2025-01-25 15:39:59.495279: I tensorflow/core/framework/local_rendezvous.cc:405] Local rendezvous is aborting with status: OUT_OF_RANGE: End of sequence\n",
      "2025-01-25 15:39:59.537945: I tensorflow/core/framework/local_rendezvous.cc:405] Local rendezvous is aborting with status: OUT_OF_RANGE: End of sequence\n",
      "2025-01-25 15:39:59.614920: I tensorflow/core/framework/local_rendezvous.cc:405] Local rendezvous is aborting with status: OUT_OF_RANGE: End of sequence\n"
     ]
    },
    {
     "name": "stdout",
     "output_type": "stream",
     "text": [
      "Mean squared error for step 0: 55.847\n",
      "Mean squared error for step 10: 9.802\n"
     ]
    },
    {
     "name": "stderr",
     "output_type": "stream",
     "text": [
      "2025-01-25 15:39:59.804441: I tensorflow/core/framework/local_rendezvous.cc:405] Local rendezvous is aborting with status: OUT_OF_RANGE: End of sequence\n"
     ]
    },
    {
     "name": "stdout",
     "output_type": "stream",
     "text": [
      "Mean squared error for step 20: 4.092\n",
      "Mean squared error for step 30: 2.135\n"
     ]
    },
    {
     "name": "stderr",
     "output_type": "stream",
     "text": [
      "2025-01-25 15:40:00.078825: I tensorflow/core/framework/local_rendezvous.cc:405] Local rendezvous is aborting with status: OUT_OF_RANGE: End of sequence\n"
     ]
    },
    {
     "name": "stdout",
     "output_type": "stream",
     "text": [
      "Mean squared error for step 40: 1.432\n",
      "Mean squared error for step 50: 1.191\n",
      "Mean squared error for step 60: 1.105\n",
      "Mean squared error for step 70: 1.081\n"
     ]
    },
    {
     "name": "stderr",
     "output_type": "stream",
     "text": [
      "2025-01-25 15:40:00.660748: I tensorflow/core/framework/local_rendezvous.cc:405] Local rendezvous is aborting with status: OUT_OF_RANGE: End of sequence\n"
     ]
    },
    {
     "name": "stdout",
     "output_type": "stream",
     "text": [
      "Mean squared error for step 80: 1.073\n",
      "Mean squared error for step 90: 1.067\n",
      "\n",
      "\n"
     ]
    },
    {
     "data": {
      "image/png": "[encoded data removed]",
      "text/plain": [
       "<Figure size 900x600 with 1 Axes>"
      ]
     },
     "metadata": {},
     "output_type": "display_data"
    }
   ],
   "source": [
    "# Set training parameters\n",
    "epochs = 100\n",
    "learning_rate = 0.01\n",
    "losses = []\n",
    "\n",
    "# Format training loop\n",
    "for epoch in range(epochs):\n",
    "  for x_batch, y_batch in dataset:\n",
    "    with tf.GradientTape() as tape:\n",
    "      batch_loss = mse_loss(quad_model(x_batch), y_batch)\n",
    "    # Update parameters with respect to the gradient calculations\n",
    "    grads = tape.gradient(batch_loss, quad_model.variables)\n",
    "    for g,v in zip(grads, quad_model.variables):\n",
    "        v.assign_sub(learning_rate*g)\n",
    "  # Keep track of model loss per epoch\n",
    "  loss = mse_loss(quad_model(x), y)\n",
    "  losses.append(loss)\n",
    "  if epoch % 10 == 0:\n",
    "    print(f'Mean squared error for step {epoch}: {loss.numpy():0.3f}')\n",
    "\n",
    "# Plot model results\n",
    "print(\"\\n\")\n",
    "plt.plot(range(epochs), losses)\n",
    "plt.xlabel(\"Epoch\")\n",
    "plt.ylabel(\"Mean Squared Error (MSE)\")\n",
    "plt.title('MSE loss vs training iterations');"
   ]
  },
  {
   "cell_type": "markdown",
   "metadata": {
    "id": "dW5B2TTRsvxE"
   },
   "source": [
    "Now, observe your model's performance after training:"
   ]
  },
  {
   "cell_type": "code",
   "execution_count": 35,
   "metadata": {
    "execution": {
     "iopub.execute_input": "2024-10-03T01:24:39.875984Z",
     "iopub.status.busy": "2024-10-03T01:24:39.875734Z",
     "iopub.status.idle": "2024-10-03T01:24:40.077259Z",
     "shell.execute_reply": "2024-10-03T01:24:40.076532Z"
    },
    "id": "Qcvzyg3eYLh8"
   },
   "outputs": [
    {
     "data": {
      "image/png": "[encoded data removed]",
      "text/plain": [
       "<Figure size 900x600 with 1 Axes>"
      ]
     },
     "metadata": {},
     "output_type": "display_data"
    }
   ],
   "source": [
    "plot_preds(x, y, f, quad_model, 'After training')"
   ]
  },
  {
   "cell_type": "markdown",
   "metadata": {
    "id": "hbtmFJIXb6qm"
   },
   "source": [
    "That's working, but remember that implementations of common training utilities are available in the `tf.keras` module. So, consider using those before writing your own. To start with, the `Model.compile` and `Model.fit` methods implement a training loop for you:"
   ]
  },
  {
   "cell_type": "markdown",
   "metadata": {
    "id": "cjx23MiztFmT"
   },
   "source": [
    "Begin by creating a Sequential Model in Keras using `tf.keras.Sequential`. One of the simplest Keras layers is the dense layer, which can be instantiated with `tf.keras.layers.Dense`. The dense layer is able to learn multidimensional linear relationships of the form $\\mathrm{Y} = \\mathrm{W}\\mathrm{X} +  \\vec{b}$. In order to learn a nonlinear equation of the form, $w_1x^2 + w_2x + b$, the dense layer's input should be a data matrix with $x^2$ and $x$ as features. The lambda layer, `tf.keras.layers.Lambda`, can be used to perform this stacking transformation."
   ]
  },
  {
   "cell_type": "code",
   "execution_count": 36,
   "metadata": {
    "execution": {
     "iopub.execute_input": "2024-10-03T01:24:40.080156Z",
     "iopub.status.busy": "2024-10-03T01:24:40.079925Z",
     "iopub.status.idle": "2024-10-03T01:24:40.092765Z",
     "shell.execute_reply": "2024-10-03T01:24:40.092141Z"
    },
    "id": "5rt8HP2TZhEM"
   },
   "outputs": [],
   "source": [
    "new_model = tf.keras.Sequential([\n",
    "    tf.keras.layers.Lambda(lambda x: tf.stack([x, x**2], axis=1)),\n",
    "    tf.keras.layers.Dense(units=1, kernel_initializer=tf.random.normal)])"
   ]
  },
  {
   "cell_type": "code",
   "execution_count": 37,
   "metadata": {
    "execution": {
     "iopub.execute_input": "2024-10-03T01:24:40.095280Z",
     "iopub.status.busy": "2024-10-03T01:24:40.095062Z",
     "iopub.status.idle": "2024-10-03T01:24:45.757257Z",
     "shell.execute_reply": "2024-10-03T01:24:45.756486Z"
    },
    "id": "73kCo1BtP3rQ"
   },
   "outputs": [],
   "source": [
    "new_model.compile(\n",
    "    loss=tf.keras.losses.MSE,\n",
    "    optimizer=tf.keras.optimizers.SGD(learning_rate=0.01))\n",
    "\n",
    "history = new_model.fit(x, y,\n",
    "                        epochs=100,\n",
    "                        batch_size=32,\n",
    "                        verbose=0)\n",
    "\n",
    "new_model.save('./my_new_model.keras')"
   ]
  },
  {
   "cell_type": "markdown",
   "metadata": {
    "id": "u3q5d1SzvzTq"
   },
   "source": [
    "Observe your Keras model's performance after training:"
   ]
  },
  {
   "cell_type": "code",
   "execution_count": 38,
   "metadata": {
    "execution": {
     "iopub.execute_input": "2024-10-03T01:24:45.760613Z",
     "iopub.status.busy": "2024-10-03T01:24:45.760374Z",
     "iopub.status.idle": "2024-10-03T01:24:45.902608Z",
     "shell.execute_reply": "2024-10-03T01:24:45.901973Z"
    },
    "id": "Mo7zRV7XZjv7"
   },
   "outputs": [
    {
     "data": {
      "image/png": "[encoded data removed]",
      "text/plain": [
       "<Figure size 900x600 with 1 Axes>"
      ]
     },
     "metadata": {},
     "output_type": "display_data"
    }
   ],
   "source": [
    "plt.plot(history.history['loss'])\n",
    "plt.xlabel('Epoch')\n",
    "plt.ylim([0, max(plt.ylim())])\n",
    "plt.ylabel('Loss [Mean Squared Error]')\n",
    "plt.title('Keras training progress');"
   ]
  },
  {
   "cell_type": "code",
   "execution_count": 39,
   "metadata": {
    "execution": {
     "iopub.execute_input": "2024-10-03T01:24:45.905335Z",
     "iopub.status.busy": "2024-10-03T01:24:45.904857Z",
     "iopub.status.idle": "2024-10-03T01:24:46.124788Z",
     "shell.execute_reply": "2024-10-03T01:24:46.124100Z"
    },
    "id": "bB44a9YsvnfK"
   },
   "outputs": [
    {
     "data": {
      "image/png": "[encoded data removed]",
      "text/plain": [
       "<Figure size 900x600 with 1 Axes>"
      ]
     },
     "metadata": {},
     "output_type": "display_data"
    }
   ],
   "source": [
    "plot_preds(x, y, f, new_model, 'After Training: Keras')"
   ]
  },
  {
   "cell_type": "markdown",
   "metadata": {
    "id": "ng-BY_eGS0bn"
   },
   "source": [
    "Refer to [Basic training loops](basic_training_loops.ipynb) and the [Keras guide](https://www.tensorflow.org/guide/keras) for more details."
   ]
  }
 ],
 "metadata": {
  "colab": {
   "collapsed_sections": [],
   "name": "basics.ipynb",
   "toc_visible": true
  },
  "kernelspec": {
   "display_name": "Python 3 (ipykernel)",
   "language": "python",
   "name": "python3"
  }
 },
 "nbformat": 4,
 "nbformat_minor": 0
}
