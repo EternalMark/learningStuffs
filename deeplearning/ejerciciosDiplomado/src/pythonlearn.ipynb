{
 "cells": [
  {
   "cell_type": "markdown",
   "metadata": {},
   "source": [
    "## Clases"
   ]
  },
  {
   "cell_type": "code",
   "execution_count": 18,
   "metadata": {},
   "outputs": [],
   "source": [
    "class Animal:\n",
    "    def __init__(self, cantidad_alimento):\n",
    "        self.cantidad_alimento = cantidad_alimento\n",
    "\n",
    "    def cuanto_comes(self):\n",
    "        # print(\"Este animal necesita %f kg de comida al mes para sobrevivir.\" self.cantidad_alimento)\n",
    "        print(f'Este animal necesita {self.cantidad_alimento} kg de comida al mes para sobrevivir.')"
   ]
  },
  {
   "cell_type": "code",
   "execution_count": 19,
   "metadata": {},
   "outputs": [
    {
     "name": "stdout",
     "output_type": "stream",
     "text": [
      "Este animal necesita 0.3 kg de comida al mes para sobrevivir.\n",
      "Este animal necesita 100 kg de comida al mes para sobrevivir.\n"
     ]
    }
   ],
   "source": [
    "rana = Animal(\"0.3\")\n",
    "elefante = Animal(\"100\")\n",
    "\n",
    "rana.cuanto_comes()\n",
    "elefante.cuanto_comes()"
   ]
  },
  {
   "cell_type": "code",
   "execution_count": 20,
   "metadata": {},
   "outputs": [
    {
     "data": {
      "text/plain": [
       "__main__.Animal"
      ]
     },
     "execution_count": 20,
     "metadata": {},
     "output_type": "execute_result"
    }
   ],
   "source": [
    "type(rana)"
   ]
  },
  {
   "cell_type": "markdown",
   "metadata": {},
   "source": [
    "## Herencia"
   ]
  },
  {
   "cell_type": "code",
   "execution_count": 21,
   "metadata": {},
   "outputs": [],
   "source": [
    "class Perro(Animal):\n",
    "    def voz(self):\n",
    "        print(\"Un perro ladra\")\n",
    "\n",
    "class Gato(Animal):\n",
    "    def voz(self):\n",
    "        print(\"Un gato maulla\")\n",
    "\n",
    "class Vaca(Animal):\n",
    "    def voz(self):\n",
    "        print(\"Una vaca muge\")\n",
    "\n",
    "class Elefante(Animal):\n",
    "    def voz(self):\n",
    "        print(\"Un elefante barrita\")"
   ]
  },
  {
   "cell_type": "code",
   "execution_count": 22,
   "metadata": {},
   "outputs": [
    {
     "name": "stdout",
     "output_type": "stream",
     "text": [
      "Un perro ladra\n",
      "Un gato maulla\n",
      "Una vaca muge\n",
      "Un elefante barrita\n"
     ]
    }
   ],
   "source": [
    "perro = Perro(10)\n",
    "gato = Gato(2)\n",
    "vaca = Vaca(100)\n",
    "elefante = Elefante(100)\n",
    "\n",
    "perro.voz()\n",
    "gato.voz()\n",
    "vaca.voz()\n",
    "elefante.voz()"
   ]
  },
  {
   "cell_type": "markdown",
   "metadata": {},
   "source": [
    "## Especializar una clase"
   ]
  },
  {
   "cell_type": "code",
   "execution_count": 23,
   "metadata": {},
   "outputs": [],
   "source": [
    "class Perro(Animal):\n",
    "    def __init__(self, cantidad_alimento, talla):\n",
    "        self.talla = talla\n",
    "        super().__init__(cantidad_alimento)\n",
    "\n",
    "    def voz(self):\n",
    "        print(\"El perro ladra\")\n",
    "\n",
    "    def talla(self):\n",
    "        print(\"El perro es un animal %s\", self.talla)"
   ]
  }
 ],
 "metadata": {
  "kernelspec": {
   "display_name": "Python 3 (ipykernel)",
   "language": "python",
   "name": "python3"
  },
  "language_info": {
   "codemirror_mode": {
    "name": "ipython",
    "version": 3
   },
   "file_extension": ".py",
   "mimetype": "text/x-python",
   "name": "python",
   "nbconvert_exporter": "python",
   "pygments_lexer": "ipython3",
   "version": "3.11.11"
  }
 },
 "nbformat": 4,
 "nbformat_minor": 2
}
