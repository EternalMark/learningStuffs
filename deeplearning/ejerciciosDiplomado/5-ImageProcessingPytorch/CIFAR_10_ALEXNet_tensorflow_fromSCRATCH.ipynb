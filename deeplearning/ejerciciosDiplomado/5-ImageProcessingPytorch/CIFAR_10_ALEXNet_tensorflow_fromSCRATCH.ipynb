{
  "cells": [
    {
      "cell_type": "code",
      "execution_count": 1,
      "metadata": {
        "id": "DB_ESiLFProp"
      },
      "outputs": [
        {
          "name": "stderr",
          "output_type": "stream",
          "text": [
            "2025-03-06 04:00:11.018754: E external/local_xla/xla/stream_executor/cuda/cuda_fft.cc:477] Unable to register cuFFT factory: Attempting to register factory for plugin cuFFT when one has already been registered\n",
            "WARNING: All log messages before absl::InitializeLog() is called are written to STDERR\n",
            "E0000 00:00:1741233611.063354     329 cuda_dnn.cc:8310] Unable to register cuDNN factory: Attempting to register factory for plugin cuDNN when one has already been registered\n",
            "E0000 00:00:1741233611.075803     329 cuda_blas.cc:1418] Unable to register cuBLAS factory: Attempting to register factory for plugin cuBLAS when one has already been registered\n",
            "2025-03-06 04:00:11.176879: I tensorflow/core/platform/cpu_feature_guard.cc:210] This TensorFlow binary is optimized to use available CPU instructions in performance-critical operations.\n",
            "To enable the following instructions: AVX2 FMA, in other operations, rebuild TensorFlow with the appropriate compiler flags.\n"
          ]
        }
      ],
      "source": [
        "# Get general purpose APIs first\n",
        "import numpy as np\n",
        "import matplotlib.pyplot as plt\n",
        "\n",
        "# load the Pytorch APIs\n",
        "import numpy as np # linear algebra\n",
        "import pandas as pd # data processing, CSV file I/O (e.g. pd.read_csv)\n",
        "import tensorflow as tf\n",
        "from tensorflow import keras\n",
        "import matplotlib.pyplot as plt\n",
        "import os\n",
        "import time\n",
        "\n",
        "# Device setup\n",
        "# device = torch.device(\"cuda\" if torch.cuda.is_available() else \"cpu\")"
      ]
    },
    {
      "cell_type": "code",
      "execution_count": 2,
      "metadata": {
        "id": "1GJBP4Crth6D"
      },
      "outputs": [
        {
          "name": "stdout",
          "output_type": "stream",
          "text": [
            "Train size: 50000\n",
            "Test size: 10000\n"
          ]
        },
        {
          "name": "stderr",
          "output_type": "stream",
          "text": [
            "I0000 00:00:1741233616.872599     329 gpu_device.cc:2022] Created device /job:localhost/replica:0/task:0/device:GPU:0 with 9639 MB memory:  -> device: 0, name: NVIDIA GeForce RTX 3060, pci bus id: 0000:01:00.0, compute capability: 8.6\n"
          ]
        }
      ],
      "source": [
        "(train_images, train_labels), (test_images, test_labels) = keras.datasets.cifar10.load_data()\n",
        "batch_size = 64\n",
        "CLASS_NAMES= ['airplane', 'automobile', 'bird', 'cat', 'deer', 'dog', 'frog', 'horse', 'ship', 'truck']\n",
        "\n",
        "# train_images = tf.keras.utils.to_categorical(train_images, num_classes=10)\n",
        "train_labels = tf.keras.utils.to_categorical(train_labels, num_classes=10)\n",
        "# test_images = tf.keras.utils.to_categorical(test_images, num_classes=10)\n",
        "test_labels = tf.keras.utils.to_categorical(test_labels, num_classes=10)\n",
        "\n",
        "train_ds=tf.data.Dataset.from_tensor_slices((train_images,train_labels))\n",
        "test_ds=tf.data.Dataset.from_tensor_slices((test_images,test_labels))\n",
        "train_ds_size=tf.data.experimental.cardinality(train_ds).numpy()\n",
        "test_ds_size=tf.data.experimental.cardinality(test_ds).numpy()\n",
        "print('Train size:',train_ds_size)\n",
        "print('Test size:',test_ds_size)\n"
      ]
    },
    {
      "cell_type": "code",
      "execution_count": 3,
      "metadata": {
        "id": "Rn3jgtVtuWMj"
      },
      "outputs": [],
      "source": [
        "def process_image(image,label):\n",
        "    image=tf.image.per_image_standardization(image)\n",
        "    image=tf.image.resize(image,(224,224))\n",
        "\n",
        "    return image,label\n",
        "\n",
        "train_ds=(train_ds\n",
        "          .map(process_image)\n",
        "          .shuffle(buffer_size=train_ds_size)\n",
        "          .batch(batch_size=batch_size,drop_remainder=True)\n",
        "         )\n",
        "test_ds=(test_ds\n",
        "          .map(process_image)\n",
        "          .shuffle(buffer_size=test_ds_size)\n",
        "          .batch(batch_size=batch_size,drop_remainder=True)\n",
        "         )"
      ]
    },
    {
      "cell_type": "code",
      "execution_count": null,
      "metadata": {
        "colab": {
          "base_uri": "https://localhost:8080/"
        },
        "id": "dlR9OJT8xM0z",
        "outputId": "933627d6-7739-4520-91ec-4026f634955f"
      },
      "outputs": [],
      "source": [
        "train_ds.element_spec"
      ]
    },
    {
      "cell_type": "code",
      "execution_count": null,
      "metadata": {
        "colab": {
          "base_uri": "https://localhost:8080/",
          "height": 261
        },
        "id": "AeVpy_A7BdFS",
        "outputId": "28f09cd0-aeda-4f7c-8cb1-bac82563be4d"
      },
      "outputs": [],
      "source": [
        "# ##convertir a ALEX MODEL\n",
        "\n",
        "# inputs = tf.keras.Input(shape=(224, 224, 3))\n",
        "# x = inputs\n",
        "# #x = data_augmentation(inputs)\n",
        "# #x = tf.keras.layers.Rescaling(1./255)(inputs)\n",
        "# x = tf.keras.layers.Conv2D(filters=64, kernel_size=11, strides=(4, 4), activation=\"relu\")(x)\n",
        "# x = tf.keras.layers.MaxPooling2D(pool_size=3,strides=(4, 4))(x)\n",
        "# # x = tf.keras.layers.Conv2D(filters=64, kernel_size=3, activation=\"relu\")(x)\n",
        "# # x = tf.keras.layers.MaxPooling2D(pool_size=2)(x)\n",
        "# #x = tf.keras.layers.Conv2D(filters=128, kernel_size=3, activation=\"relu\")(x)\n",
        "# #x = tf.keras.layers.MaxPooling2D(pool_size=2)(x)\n",
        "# #x = tf.keras.layers.Conv2D(filters=256, kernel_size=3, activation=\"relu\")(x)\n",
        "# #x = tf.keras.layers.MaxPooling2D(pool_size=2)(x)\n",
        "# #x = tf.keras.layers.Conv2D(filters=256, kernel_size=3, activation=\"relu\")(x)\n",
        "# x = tf.keras.layers.Flatten()(x)\n",
        "# #x = tf.keras.layers.Dropout(0.2)(x)\n",
        "# outputs = tf.keras.layers.Dense(10, activation=\"softmax\")(x)\n",
        "# model = tf.keras.Model(inputs=inputs, outputs=outputs)\n",
        "# model.summary()"
      ]
    },
    {
      "cell_type": "code",
      "execution_count": null,
      "metadata": {},
      "outputs": [],
      "source": [
        "# def AlexNet(num_classes=10, dropout=0.5):\n",
        "#     inputs = keras.Input(shape=(227, 227, 3))  # Tamaño de entrada estándar de AlexNet\n",
        "    \n",
        "#     # Bloque de características (feature extractor)\n",
        "#     x = layers.Conv2D(64, kernel_size=11, strides=4, padding=\"same\", activation=\"relu\")(inputs)\n",
        "#     x = layers.MaxPooling2D(pool_size=3, strides=2)(x)\n",
        "    \n",
        "#     x = layers.Conv2D(192, kernel_size=5, padding=\"same\", activation=\"relu\")(x)\n",
        "#     x = layers.MaxPooling2D(pool_size=3, strides=2)(x)\n",
        "    \n",
        "#     x = layers.Conv2D(384, kernel_size=3, padding=\"same\", activation=\"relu\")(x)\n",
        "#     x = layers.Conv2D(256, kernel_size=3, padding=\"same\", activation=\"relu\")(x)\n",
        "#     x = layers.Conv2D(256, kernel_size=3, padding=\"same\", activation=\"relu\")(x)\n",
        "#     x = layers.MaxPooling2D(pool_size=3, strides=2)(x)\n",
        "    \n",
        "#     # Capa de Pooling Adaptativo (reemplazada por Flatten, ya que Keras maneja tamaños de entrada flexibles)\n",
        "#     x = layers.Flatten()(x)\n",
        "    \n",
        "#     # Clasificador totalmente conectado\n",
        "#     x = layers.Dropout(dropout)(x)\n",
        "#     x = layers.Dense(4096, activation=\"relu\")(x)\n",
        "#     x = layers.Dropout(dropout)(x)\n",
        "#     x = layers.Dense(4096, activation=\"relu\")(x)\n",
        "#     x = layers.Dense(num_classes, activation=\"softmax\")(x)\n",
        "    \n",
        "#     model = keras.Model(inputs, x, name=\"AlexNet\")\n",
        "#     return model\n",
        "\n",
        "# # Crear el modelo\n",
        "# model = AlexNet(num_classes=10)\n",
        "# model.summary()"
      ]
    },
    {
      "cell_type": "code",
      "execution_count": 4,
      "metadata": {},
      "outputs": [
        {
          "name": "stderr",
          "output_type": "stream",
          "text": [
            "/usr/local/lib/python3.11/site-packages/keras/src/layers/convolutional/base_conv.py:107: UserWarning: Do not pass an `input_shape`/`input_dim` argument to a layer. When using Sequential models, prefer using an `Input(shape)` object as the first layer in the model instead.\n",
            "  super().__init__(activity_regularizer=activity_regularizer, **kwargs)\n"
          ]
        },
        {
          "data": {
            "text/html": [
              "<pre style=\"white-space:pre;overflow-x:auto;line-height:normal;font-family:Menlo,'DejaVu Sans Mono',consolas,'Courier New',monospace\"><span style=\"font-weight: bold\">Model: \"sequential\"</span>\n",
              "</pre>\n"
            ],
            "text/plain": [
              "\u001b[1mModel: \"sequential\"\u001b[0m\n"
            ]
          },
          "metadata": {},
          "output_type": "display_data"
        },
        {
          "data": {
            "text/html": [
              "<pre style=\"white-space:pre;overflow-x:auto;line-height:normal;font-family:Menlo,'DejaVu Sans Mono',consolas,'Courier New',monospace\">┏━━━━━━━━━━━━━━━━━━━━━━━━━━━━━━━━━┳━━━━━━━━━━━━━━━━━━━━━━━━┳━━━━━━━━━━━━━━━┓\n",
              "┃<span style=\"font-weight: bold\"> Layer (type)                    </span>┃<span style=\"font-weight: bold\"> Output Shape           </span>┃<span style=\"font-weight: bold\">       Param # </span>┃\n",
              "┡━━━━━━━━━━━━━━━━━━━━━━━━━━━━━━━━━╇━━━━━━━━━━━━━━━━━━━━━━━━╇━━━━━━━━━━━━━━━┩\n",
              "│ conv2d (<span style=\"color: #0087ff; text-decoration-color: #0087ff\">Conv2D</span>)                 │ (<span style=\"color: #00d7ff; text-decoration-color: #00d7ff\">None</span>, <span style=\"color: #00af00; text-decoration-color: #00af00\">56</span>, <span style=\"color: #00af00; text-decoration-color: #00af00\">56</span>, <span style=\"color: #00af00; text-decoration-color: #00af00\">64</span>)     │        <span style=\"color: #00af00; text-decoration-color: #00af00\">23,296</span> │\n",
              "├─────────────────────────────────┼────────────────────────┼───────────────┤\n",
              "│ max_pooling2d (<span style=\"color: #0087ff; text-decoration-color: #0087ff\">MaxPooling2D</span>)    │ (<span style=\"color: #00d7ff; text-decoration-color: #00d7ff\">None</span>, <span style=\"color: #00af00; text-decoration-color: #00af00\">27</span>, <span style=\"color: #00af00; text-decoration-color: #00af00\">27</span>, <span style=\"color: #00af00; text-decoration-color: #00af00\">64</span>)     │             <span style=\"color: #00af00; text-decoration-color: #00af00\">0</span> │\n",
              "├─────────────────────────────────┼────────────────────────┼───────────────┤\n",
              "│ conv2d_1 (<span style=\"color: #0087ff; text-decoration-color: #0087ff\">Conv2D</span>)               │ (<span style=\"color: #00d7ff; text-decoration-color: #00d7ff\">None</span>, <span style=\"color: #00af00; text-decoration-color: #00af00\">27</span>, <span style=\"color: #00af00; text-decoration-color: #00af00\">27</span>, <span style=\"color: #00af00; text-decoration-color: #00af00\">192</span>)    │       <span style=\"color: #00af00; text-decoration-color: #00af00\">307,392</span> │\n",
              "├─────────────────────────────────┼────────────────────────┼───────────────┤\n",
              "│ max_pooling2d_1 (<span style=\"color: #0087ff; text-decoration-color: #0087ff\">MaxPooling2D</span>)  │ (<span style=\"color: #00d7ff; text-decoration-color: #00d7ff\">None</span>, <span style=\"color: #00af00; text-decoration-color: #00af00\">13</span>, <span style=\"color: #00af00; text-decoration-color: #00af00\">13</span>, <span style=\"color: #00af00; text-decoration-color: #00af00\">192</span>)    │             <span style=\"color: #00af00; text-decoration-color: #00af00\">0</span> │\n",
              "├─────────────────────────────────┼────────────────────────┼───────────────┤\n",
              "│ conv2d_2 (<span style=\"color: #0087ff; text-decoration-color: #0087ff\">Conv2D</span>)               │ (<span style=\"color: #00d7ff; text-decoration-color: #00d7ff\">None</span>, <span style=\"color: #00af00; text-decoration-color: #00af00\">13</span>, <span style=\"color: #00af00; text-decoration-color: #00af00\">13</span>, <span style=\"color: #00af00; text-decoration-color: #00af00\">384</span>)    │       <span style=\"color: #00af00; text-decoration-color: #00af00\">663,936</span> │\n",
              "├─────────────────────────────────┼────────────────────────┼───────────────┤\n",
              "│ conv2d_3 (<span style=\"color: #0087ff; text-decoration-color: #0087ff\">Conv2D</span>)               │ (<span style=\"color: #00d7ff; text-decoration-color: #00d7ff\">None</span>, <span style=\"color: #00af00; text-decoration-color: #00af00\">13</span>, <span style=\"color: #00af00; text-decoration-color: #00af00\">13</span>, <span style=\"color: #00af00; text-decoration-color: #00af00\">256</span>)    │       <span style=\"color: #00af00; text-decoration-color: #00af00\">884,992</span> │\n",
              "├─────────────────────────────────┼────────────────────────┼───────────────┤\n",
              "│ conv2d_4 (<span style=\"color: #0087ff; text-decoration-color: #0087ff\">Conv2D</span>)               │ (<span style=\"color: #00d7ff; text-decoration-color: #00d7ff\">None</span>, <span style=\"color: #00af00; text-decoration-color: #00af00\">13</span>, <span style=\"color: #00af00; text-decoration-color: #00af00\">13</span>, <span style=\"color: #00af00; text-decoration-color: #00af00\">256</span>)    │       <span style=\"color: #00af00; text-decoration-color: #00af00\">590,080</span> │\n",
              "├─────────────────────────────────┼────────────────────────┼───────────────┤\n",
              "│ max_pooling2d_2 (<span style=\"color: #0087ff; text-decoration-color: #0087ff\">MaxPooling2D</span>)  │ (<span style=\"color: #00d7ff; text-decoration-color: #00d7ff\">None</span>, <span style=\"color: #00af00; text-decoration-color: #00af00\">6</span>, <span style=\"color: #00af00; text-decoration-color: #00af00\">6</span>, <span style=\"color: #00af00; text-decoration-color: #00af00\">256</span>)      │             <span style=\"color: #00af00; text-decoration-color: #00af00\">0</span> │\n",
              "├─────────────────────────────────┼────────────────────────┼───────────────┤\n",
              "│ flatten (<span style=\"color: #0087ff; text-decoration-color: #0087ff\">Flatten</span>)               │ (<span style=\"color: #00d7ff; text-decoration-color: #00d7ff\">None</span>, <span style=\"color: #00af00; text-decoration-color: #00af00\">9216</span>)           │             <span style=\"color: #00af00; text-decoration-color: #00af00\">0</span> │\n",
              "├─────────────────────────────────┼────────────────────────┼───────────────┤\n",
              "│ dense (<span style=\"color: #0087ff; text-decoration-color: #0087ff\">Dense</span>)                   │ (<span style=\"color: #00d7ff; text-decoration-color: #00d7ff\">None</span>, <span style=\"color: #00af00; text-decoration-color: #00af00\">4096</span>)           │    <span style=\"color: #00af00; text-decoration-color: #00af00\">37,752,832</span> │\n",
              "├─────────────────────────────────┼────────────────────────┼───────────────┤\n",
              "│ dropout (<span style=\"color: #0087ff; text-decoration-color: #0087ff\">Dropout</span>)               │ (<span style=\"color: #00d7ff; text-decoration-color: #00d7ff\">None</span>, <span style=\"color: #00af00; text-decoration-color: #00af00\">4096</span>)           │             <span style=\"color: #00af00; text-decoration-color: #00af00\">0</span> │\n",
              "├─────────────────────────────────┼────────────────────────┼───────────────┤\n",
              "│ dense_1 (<span style=\"color: #0087ff; text-decoration-color: #0087ff\">Dense</span>)                 │ (<span style=\"color: #00d7ff; text-decoration-color: #00d7ff\">None</span>, <span style=\"color: #00af00; text-decoration-color: #00af00\">4096</span>)           │    <span style=\"color: #00af00; text-decoration-color: #00af00\">16,781,312</span> │\n",
              "├─────────────────────────────────┼────────────────────────┼───────────────┤\n",
              "│ dropout_1 (<span style=\"color: #0087ff; text-decoration-color: #0087ff\">Dropout</span>)             │ (<span style=\"color: #00d7ff; text-decoration-color: #00d7ff\">None</span>, <span style=\"color: #00af00; text-decoration-color: #00af00\">4096</span>)           │             <span style=\"color: #00af00; text-decoration-color: #00af00\">0</span> │\n",
              "├─────────────────────────────────┼────────────────────────┼───────────────┤\n",
              "│ dense_2 (<span style=\"color: #0087ff; text-decoration-color: #0087ff\">Dense</span>)                 │ (<span style=\"color: #00d7ff; text-decoration-color: #00d7ff\">None</span>, <span style=\"color: #00af00; text-decoration-color: #00af00\">10</span>)             │        <span style=\"color: #00af00; text-decoration-color: #00af00\">40,970</span> │\n",
              "└─────────────────────────────────┴────────────────────────┴───────────────┘\n",
              "</pre>\n"
            ],
            "text/plain": [
              "┏━━━━━━━━━━━━━━━━━━━━━━━━━━━━━━━━━┳━━━━━━━━━━━━━━━━━━━━━━━━┳━━━━━━━━━━━━━━━┓\n",
              "┃\u001b[1m \u001b[0m\u001b[1mLayer (type)                   \u001b[0m\u001b[1m \u001b[0m┃\u001b[1m \u001b[0m\u001b[1mOutput Shape          \u001b[0m\u001b[1m \u001b[0m┃\u001b[1m \u001b[0m\u001b[1m      Param #\u001b[0m\u001b[1m \u001b[0m┃\n",
              "┡━━━━━━━━━━━━━━━━━━━━━━━━━━━━━━━━━╇━━━━━━━━━━━━━━━━━━━━━━━━╇━━━━━━━━━━━━━━━┩\n",
              "│ conv2d (\u001b[38;5;33mConv2D\u001b[0m)                 │ (\u001b[38;5;45mNone\u001b[0m, \u001b[38;5;34m56\u001b[0m, \u001b[38;5;34m56\u001b[0m, \u001b[38;5;34m64\u001b[0m)     │        \u001b[38;5;34m23,296\u001b[0m │\n",
              "├─────────────────────────────────┼────────────────────────┼───────────────┤\n",
              "│ max_pooling2d (\u001b[38;5;33mMaxPooling2D\u001b[0m)    │ (\u001b[38;5;45mNone\u001b[0m, \u001b[38;5;34m27\u001b[0m, \u001b[38;5;34m27\u001b[0m, \u001b[38;5;34m64\u001b[0m)     │             \u001b[38;5;34m0\u001b[0m │\n",
              "├─────────────────────────────────┼────────────────────────┼───────────────┤\n",
              "│ conv2d_1 (\u001b[38;5;33mConv2D\u001b[0m)               │ (\u001b[38;5;45mNone\u001b[0m, \u001b[38;5;34m27\u001b[0m, \u001b[38;5;34m27\u001b[0m, \u001b[38;5;34m192\u001b[0m)    │       \u001b[38;5;34m307,392\u001b[0m │\n",
              "├─────────────────────────────────┼────────────────────────┼───────────────┤\n",
              "│ max_pooling2d_1 (\u001b[38;5;33mMaxPooling2D\u001b[0m)  │ (\u001b[38;5;45mNone\u001b[0m, \u001b[38;5;34m13\u001b[0m, \u001b[38;5;34m13\u001b[0m, \u001b[38;5;34m192\u001b[0m)    │             \u001b[38;5;34m0\u001b[0m │\n",
              "├─────────────────────────────────┼────────────────────────┼───────────────┤\n",
              "│ conv2d_2 (\u001b[38;5;33mConv2D\u001b[0m)               │ (\u001b[38;5;45mNone\u001b[0m, \u001b[38;5;34m13\u001b[0m, \u001b[38;5;34m13\u001b[0m, \u001b[38;5;34m384\u001b[0m)    │       \u001b[38;5;34m663,936\u001b[0m │\n",
              "├─────────────────────────────────┼────────────────────────┼───────────────┤\n",
              "│ conv2d_3 (\u001b[38;5;33mConv2D\u001b[0m)               │ (\u001b[38;5;45mNone\u001b[0m, \u001b[38;5;34m13\u001b[0m, \u001b[38;5;34m13\u001b[0m, \u001b[38;5;34m256\u001b[0m)    │       \u001b[38;5;34m884,992\u001b[0m │\n",
              "├─────────────────────────────────┼────────────────────────┼───────────────┤\n",
              "│ conv2d_4 (\u001b[38;5;33mConv2D\u001b[0m)               │ (\u001b[38;5;45mNone\u001b[0m, \u001b[38;5;34m13\u001b[0m, \u001b[38;5;34m13\u001b[0m, \u001b[38;5;34m256\u001b[0m)    │       \u001b[38;5;34m590,080\u001b[0m │\n",
              "├─────────────────────────────────┼────────────────────────┼───────────────┤\n",
              "│ max_pooling2d_2 (\u001b[38;5;33mMaxPooling2D\u001b[0m)  │ (\u001b[38;5;45mNone\u001b[0m, \u001b[38;5;34m6\u001b[0m, \u001b[38;5;34m6\u001b[0m, \u001b[38;5;34m256\u001b[0m)      │             \u001b[38;5;34m0\u001b[0m │\n",
              "├─────────────────────────────────┼────────────────────────┼───────────────┤\n",
              "│ flatten (\u001b[38;5;33mFlatten\u001b[0m)               │ (\u001b[38;5;45mNone\u001b[0m, \u001b[38;5;34m9216\u001b[0m)           │             \u001b[38;5;34m0\u001b[0m │\n",
              "├─────────────────────────────────┼────────────────────────┼───────────────┤\n",
              "│ dense (\u001b[38;5;33mDense\u001b[0m)                   │ (\u001b[38;5;45mNone\u001b[0m, \u001b[38;5;34m4096\u001b[0m)           │    \u001b[38;5;34m37,752,832\u001b[0m │\n",
              "├─────────────────────────────────┼────────────────────────┼───────────────┤\n",
              "│ dropout (\u001b[38;5;33mDropout\u001b[0m)               │ (\u001b[38;5;45mNone\u001b[0m, \u001b[38;5;34m4096\u001b[0m)           │             \u001b[38;5;34m0\u001b[0m │\n",
              "├─────────────────────────────────┼────────────────────────┼───────────────┤\n",
              "│ dense_1 (\u001b[38;5;33mDense\u001b[0m)                 │ (\u001b[38;5;45mNone\u001b[0m, \u001b[38;5;34m4096\u001b[0m)           │    \u001b[38;5;34m16,781,312\u001b[0m │\n",
              "├─────────────────────────────────┼────────────────────────┼───────────────┤\n",
              "│ dropout_1 (\u001b[38;5;33mDropout\u001b[0m)             │ (\u001b[38;5;45mNone\u001b[0m, \u001b[38;5;34m4096\u001b[0m)           │             \u001b[38;5;34m0\u001b[0m │\n",
              "├─────────────────────────────────┼────────────────────────┼───────────────┤\n",
              "│ dense_2 (\u001b[38;5;33mDense\u001b[0m)                 │ (\u001b[38;5;45mNone\u001b[0m, \u001b[38;5;34m10\u001b[0m)             │        \u001b[38;5;34m40,970\u001b[0m │\n",
              "└─────────────────────────────────┴────────────────────────┴───────────────┘\n"
            ]
          },
          "metadata": {},
          "output_type": "display_data"
        },
        {
          "data": {
            "text/html": [
              "<pre style=\"white-space:pre;overflow-x:auto;line-height:normal;font-family:Menlo,'DejaVu Sans Mono',consolas,'Courier New',monospace\"><span style=\"font-weight: bold\"> Total params: </span><span style=\"color: #00af00; text-decoration-color: #00af00\">57,044,810</span> (217.61 MB)\n",
              "</pre>\n"
            ],
            "text/plain": [
              "\u001b[1m Total params: \u001b[0m\u001b[38;5;34m57,044,810\u001b[0m (217.61 MB)\n"
            ]
          },
          "metadata": {},
          "output_type": "display_data"
        },
        {
          "data": {
            "text/html": [
              "<pre style=\"white-space:pre;overflow-x:auto;line-height:normal;font-family:Menlo,'DejaVu Sans Mono',consolas,'Courier New',monospace\"><span style=\"font-weight: bold\"> Trainable params: </span><span style=\"color: #00af00; text-decoration-color: #00af00\">57,044,810</span> (217.61 MB)\n",
              "</pre>\n"
            ],
            "text/plain": [
              "\u001b[1m Trainable params: \u001b[0m\u001b[38;5;34m57,044,810\u001b[0m (217.61 MB)\n"
            ]
          },
          "metadata": {},
          "output_type": "display_data"
        },
        {
          "data": {
            "text/html": [
              "<pre style=\"white-space:pre;overflow-x:auto;line-height:normal;font-family:Menlo,'DejaVu Sans Mono',consolas,'Courier New',monospace\"><span style=\"font-weight: bold\"> Non-trainable params: </span><span style=\"color: #00af00; text-decoration-color: #00af00\">0</span> (0.00 B)\n",
              "</pre>\n"
            ],
            "text/plain": [
              "\u001b[1m Non-trainable params: \u001b[0m\u001b[38;5;34m0\u001b[0m (0.00 B)\n"
            ]
          },
          "metadata": {},
          "output_type": "display_data"
        }
      ],
      "source": [
        "# Definir el modelo AlexNet\n",
        "model = tf.keras.models.Sequential([\n",
        "    tf.keras.layers.Conv2D(64, kernel_size=11, strides=4, padding='same', activation='relu', input_shape=(224, 224, 3)),\n",
        "    tf.keras.layers.MaxPooling2D(pool_size=3, strides=2),\n",
        "    tf.keras.layers.Conv2D(192, kernel_size=5, padding='same', activation='relu'),\n",
        "    tf.keras.layers.MaxPooling2D(pool_size=3, strides=2),\n",
        "    tf.keras.layers.Conv2D(384, kernel_size=3, padding='same', activation='relu'),\n",
        "    tf.keras.layers.Conv2D(256, kernel_size=3, padding='same', activation='relu'),\n",
        "    tf.keras.layers.Conv2D(256, kernel_size=3, padding='same', activation='relu'),\n",
        "    tf.keras.layers.MaxPooling2D(pool_size=3, strides=2),\n",
        "    tf.keras.layers.Flatten(),\n",
        "    tf.keras.layers.Dense(4096, activation='relu'),\n",
        "    tf.keras.layers.Dropout(0.5),\n",
        "    tf.keras.layers.Dense(4096, activation='relu'),\n",
        "    tf.keras.layers.Dropout(0.5),\n",
        "    tf.keras.layers.Dense(10, activation='softmax')\n",
        "])\n",
        "model.summary()"
      ]
    },
    {
      "cell_type": "code",
      "execution_count": null,
      "metadata": {},
      "outputs": [],
      "source": [
        "# # Definir el modelo AlexNet adaptado para CIFAR-10\n",
        "# model = tf.keras.models.Sequential([\n",
        "#     tf.keras.layers.Conv2D(64, kernel_size=3, strides=1, padding='same', activation='relu', input_shape=(32, 32, 3)),\n",
        "#     tf.keras.layers.MaxPooling2D(pool_size=2, strides=2),\n",
        "#     tf.keras.layers.Conv2D(192, kernel_size=3, padding='same', activation='relu'),\n",
        "#     tf.keras.layers.MaxPooling2D(pool_size=2, strides=2),\n",
        "#     tf.keras.layers.Conv2D(384, kernel_size=3, padding='same', activation='relu'),\n",
        "#     tf.keras.layers.Conv2D(256, kernel_size=3, padding='same', activation='relu'),\n",
        "#     tf.keras.layers.Conv2D(256, kernel_size=3, padding='same', activation='relu'),\n",
        "#     tf.keras.layers.MaxPooling2D(pool_size=2, strides=2),\n",
        "#     tf.keras.layers.Flatten(),\n",
        "#     tf.keras.layers.Dense(4096, activation='relu'),\n",
        "#     tf.keras.layers.Dropout(0.5),\n",
        "#     tf.keras.layers.Dense(4096, activation='relu'),\n",
        "#     tf.keras.layers.Dropout(0.5),\n",
        "#     tf.keras.layers.Dense(10, activation='softmax')\n",
        "# ])\n",
        "# model.summary()"
      ]
    },
    {
      "cell_type": "code",
      "execution_count": null,
      "metadata": {
        "id": "HjlZRK1kmHaN"
      },
      "outputs": [],
      "source": [
        "  ##EJEMPLO DE PYTORCH NO CORRER\n",
        "\n",
        "#   class AlexNet(nn.Module):\n",
        "#       def __init__(self, num_classes: int = 10, dropout: float = 0.5) -> None:\n",
        "#           super().__init__()\n",
        "#           #_log_api_usage_once(self)\n",
        "#           self.features = nn.Sequential(\n",
        "#               nn.Conv2d(3, 64, kernel_size=11, stride=4, padding=2),\n",
        "#               nn.ReLU(inplace=True),\n",
        "#               nn.MaxPool2d(kernel_size=3, stride=2),\n",
        "#               nn.Conv2d(64, 192, kernel_size=5, padding=2),\n",
        "#               nn.ReLU(inplace=True),\n",
        "#               nn.MaxPool2d(kernel_size=3, stride=2),\n",
        "#               nn.Conv2d(192, 384, kernel_size=3, padding=1),\n",
        "#               nn.ReLU(inplace=True),\n",
        "#               nn.Conv2d(384, 256, kernel_size=3, padding=1),\n",
        "#               nn.ReLU(inplace=True),\n",
        "#               nn.Conv2d(256, 256, kernel_size=3, padding=1),\n",
        "#               nn.ReLU(inplace=True),\n",
        "#               nn.MaxPool2d(kernel_size=3, stride=2),\n",
        "#           )\n",
        "#           self.avgpool = nn.AdaptiveAvgPool2d((6, 6))\n",
        "#           self.classifier = nn.Sequential(\n",
        "#               nn.Dropout(p=dropout),\n",
        "#               nn.Linear(256 * 6 * 6, 4096),\n",
        "#               nn.ReLU(inplace=True),\n",
        "#               nn.Dropout(p=dropout),\n",
        "#               nn.Linear(4096, 4096),\n",
        "#               nn.ReLU(inplace=True),\n",
        "#               nn.Linear(4096, num_classes),\n",
        "#           )\n",
        "\n",
        "#       def forward(self, x: torch.Tensor) -> torch.Tensor:\n",
        "#           x = self.features(x)\n",
        "#           x = self.avgpool(x)\n",
        "#           x = torch.flatten(x, 1)\n",
        "#           x = self.classifier(x)\n",
        "#           return x"
      ]
    },
    {
      "cell_type": "code",
      "execution_count": null,
      "metadata": {
        "id": "VQMVVtxcB7Io"
      },
      "outputs": [],
      "source": [
        "# model.compile(\n",
        "#     optimizer='rmsprop',  # We can experiment with other optimizers\n",
        "#     loss='categorical_crossentropy', # Let's use 'categorical_crossentropy' for > 2 classes  binary_crossentropy for classes  =2\n",
        "#     metrics=['accuracy']\n",
        "# )"
      ]
    },
    {
      "cell_type": "code",
      "execution_count": 5,
      "metadata": {},
      "outputs": [],
      "source": [
        "# Compilar el modelo\n",
        "model.compile(optimizer='adam',\n",
        "              loss='categorical_crossentropy',\n",
        "              metrics=['accuracy'])"
      ]
    },
    {
      "cell_type": "code",
      "execution_count": null,
      "metadata": {
        "id": "TI7PLkLMMnFs"
      },
      "outputs": [],
      "source": [
        "# model.compile(optimizer=tf.keras.optimizers.Adam(learning_rate=0.005),\n",
        "#               loss=\"sparse_categorical_crossentropy\",\n",
        "#               metrics=[\"accuracy\"])"
      ]
    },
    {
      "cell_type": "code",
      "execution_count": 6,
      "metadata": {
        "colab": {
          "base_uri": "https://localhost:8080/"
        },
        "id": "kFDwyYVnB8IN",
        "outputId": "cb785a32-6676-4a71-88e1-15b4c192a550"
      },
      "outputs": [
        {
          "name": "stdout",
          "output_type": "stream",
          "text": [
            "Epoch 1/30\n"
          ]
        },
        {
          "name": "stderr",
          "output_type": "stream",
          "text": [
            "WARNING: All log messages before absl::InitializeLog() is called are written to STDERR\n",
            "I0000 00:00:1741233650.871539     391 service.cc:148] XLA service 0x74e7ac0026b0 initialized for platform CUDA (this does not guarantee that XLA will be used). Devices:\n",
            "I0000 00:00:1741233650.873506     391 service.cc:156]   StreamExecutor device (0): NVIDIA GeForce RTX 3060, Compute Capability 8.6\n",
            "2025-03-06 04:00:50.909365: I tensorflow/compiler/mlir/tensorflow/utils/dump_mlir_util.cc:268] disabling MLIR crash reproducer, set env var `MLIR_CRASH_REPRODUCER_DIRECTORY` to enable.\n",
            "I0000 00:00:1741233651.086360     391 cuda_dnn.cc:529] Loaded cuDNN version 90300\n",
            "2025-03-06 04:00:51.231820: W external/local_xla/xla/service/gpu/nvptx_compiler.cc:930] The NVIDIA driver's CUDA version is 12.4 which is older than the PTX compiler version 12.5.82. Because the driver is older than the PTX compiler version, XLA is disabling parallel compilation, which may slow down compilation. You should update your NVIDIA driver or use the NVIDIA-provided CUDA forward compatibility packages.\n"
          ]
        },
        {
          "name": "stdout",
          "output_type": "stream",
          "text": [
            "\u001b[1m  3/781\u001b[0m \u001b[37m━━━━━━━━━━━━━━━━━━━━\u001b[0m \u001b[1m47s\u001b[0m 61ms/step - accuracy: 0.1302 - loss: 5.3535 "
          ]
        },
        {
          "name": "stderr",
          "output_type": "stream",
          "text": [
            "I0000 00:00:1741233658.302431     391 device_compiler.h:188] Compiled cluster using XLA!  This line is logged at most once for the lifetime of the process.\n"
          ]
        },
        {
          "name": "stdout",
          "output_type": "stream",
          "text": [
            "\u001b[1m780/781\u001b[0m \u001b[32m━━━━━━━━━━━━━━━━━━━\u001b[0m\u001b[37m━\u001b[0m \u001b[1m0s\u001b[0m 59ms/step - accuracy: 0.3154 - loss: 1.9325"
          ]
        },
        {
          "name": "stderr",
          "output_type": "stream",
          "text": [
            "2025-03-06 04:01:45.869495: I external/local_xla/xla/stream_executor/cuda/cuda_asm_compiler.cc:397] ptxas warning : Registers are spilled to local memory in function 'gemm_fusion_dot_115', 196 bytes spill stores, 196 bytes spill loads\n",
            "\n",
            "2025-03-06 04:01:45.988768: I external/local_xla/xla/stream_executor/cuda/cuda_asm_compiler.cc:397] ptxas warning : Registers are spilled to local memory in function 'gemm_fusion_dot_115', 236 bytes spill stores, 236 bytes spill loads\n",
            "\n",
            "2025-03-06 04:01:46.155377: I external/local_xla/xla/stream_executor/cuda/cuda_asm_compiler.cc:397] ptxas warning : Registers are spilled to local memory in function 'gemm_fusion_dot_122', 104 bytes spill stores, 104 bytes spill loads\n",
            "\n",
            "2025-03-06 04:01:46.565485: I external/local_xla/xla/stream_executor/cuda/cuda_asm_compiler.cc:397] ptxas warning : Registers are spilled to local memory in function 'gemm_fusion_dot_122', 412 bytes spill stores, 412 bytes spill loads\n",
            "\n"
          ]
        },
        {
          "name": "stdout",
          "output_type": "stream",
          "text": [
            "\u001b[1m781/781\u001b[0m \u001b[32m━━━━━━━━━━━━━━━━━━━━\u001b[0m\u001b[37m\u001b[0m \u001b[1m67s\u001b[0m 69ms/step - accuracy: 0.3156 - loss: 1.9318 - val_accuracy: 0.4989 - val_loss: 1.3661\n",
            "Epoch 2/30\n",
            "\u001b[1m781/781\u001b[0m \u001b[32m━━━━━━━━━━━━━━━━━━━━\u001b[0m\u001b[37m\u001b[0m \u001b[1m56s\u001b[0m 64ms/step - accuracy: 0.5313 - loss: 1.3091 - val_accuracy: 0.5949 - val_loss: 1.1530\n",
            "Epoch 3/30\n",
            "\u001b[1m781/781\u001b[0m \u001b[32m━━━━━━━━━━━━━━━━━━━━\u001b[0m\u001b[37m\u001b[0m \u001b[1m58s\u001b[0m 67ms/step - accuracy: 0.6017 - loss: 1.1327 - val_accuracy: 0.6267 - val_loss: 1.0389\n",
            "Epoch 4/30\n",
            "\u001b[1m781/781\u001b[0m \u001b[32m━━━━━━━━━━━━━━━━━━━━\u001b[0m\u001b[37m\u001b[0m \u001b[1m57s\u001b[0m 65ms/step - accuracy: 0.6467 - loss: 1.0208 - val_accuracy: 0.6438 - val_loss: 1.0221\n",
            "Epoch 5/30\n",
            "\u001b[1m781/781\u001b[0m \u001b[32m━━━━━━━━━━━━━━━━━━━━\u001b[0m\u001b[37m\u001b[0m \u001b[1m56s\u001b[0m 65ms/step - accuracy: 0.6686 - loss: 0.9641 - val_accuracy: 0.6779 - val_loss: 0.9321\n",
            "Epoch 6/30\n",
            "\u001b[1m781/781\u001b[0m \u001b[32m━━━━━━━━━━━━━━━━━━━━\u001b[0m\u001b[37m\u001b[0m \u001b[1m59s\u001b[0m 69ms/step - accuracy: 0.6874 - loss: 0.8987 - val_accuracy: 0.6327 - val_loss: 1.0449\n",
            "Epoch 7/30\n",
            "\u001b[1m781/781\u001b[0m \u001b[32m━━━━━━━━━━━━━━━━━━━━\u001b[0m\u001b[37m\u001b[0m \u001b[1m58s\u001b[0m 66ms/step - accuracy: 0.6960 - loss: 0.8818 - val_accuracy: 0.6510 - val_loss: 1.0037\n",
            "Epoch 8/30\n",
            "\u001b[1m781/781\u001b[0m \u001b[32m━━━━━━━━━━━━━━━━━━━━\u001b[0m\u001b[37m\u001b[0m \u001b[1m57s\u001b[0m 65ms/step - accuracy: 0.7024 - loss: 0.8654 - val_accuracy: 0.6865 - val_loss: 0.9199\n",
            "Epoch 9/30\n",
            "\u001b[1m781/781\u001b[0m \u001b[32m━━━━━━━━━━━━━━━━━━━━\u001b[0m\u001b[37m\u001b[0m \u001b[1m60s\u001b[0m 69ms/step - accuracy: 0.7194 - loss: 0.8074 - val_accuracy: 0.6763 - val_loss: 0.9688\n",
            "Epoch 10/30\n",
            "\u001b[1m781/781\u001b[0m \u001b[32m━━━━━━━━━━━━━━━━━━━━\u001b[0m\u001b[37m\u001b[0m \u001b[1m58s\u001b[0m 65ms/step - accuracy: 0.7284 - loss: 0.7896 - val_accuracy: 0.6770 - val_loss: 0.9484\n",
            "Epoch 11/30\n",
            "\u001b[1m781/781\u001b[0m \u001b[32m━━━━━━━━━━━━━━━━━━━━\u001b[0m\u001b[37m\u001b[0m \u001b[1m57s\u001b[0m 65ms/step - accuracy: 0.7283 - loss: 0.7914 - val_accuracy: 0.6700 - val_loss: 0.9676\n",
            "Epoch 12/30\n",
            "\u001b[1m781/781\u001b[0m \u001b[32m━━━━━━━━━━━━━━━━━━━━\u001b[0m\u001b[37m\u001b[0m \u001b[1m57s\u001b[0m 65ms/step - accuracy: 0.7366 - loss: 0.7667 - val_accuracy: 0.6938 - val_loss: 0.9187\n",
            "Epoch 13/30\n",
            "\u001b[1m781/781\u001b[0m \u001b[32m━━━━━━━━━━━━━━━━━━━━\u001b[0m\u001b[37m\u001b[0m \u001b[1m57s\u001b[0m 67ms/step - accuracy: 0.7411 - loss: 0.7485 - val_accuracy: 0.6602 - val_loss: 1.0123\n",
            "Epoch 14/30\n",
            "\u001b[1m781/781\u001b[0m \u001b[32m━━━━━━━━━━━━━━━━━━━━\u001b[0m\u001b[37m\u001b[0m \u001b[1m57s\u001b[0m 66ms/step - accuracy: 0.7498 - loss: 0.7353 - val_accuracy: 0.6657 - val_loss: 0.9933\n",
            "Epoch 15/30\n",
            "\u001b[1m781/781\u001b[0m \u001b[32m━━━━━━━━━━━━━━━━━━━━\u001b[0m\u001b[37m\u001b[0m \u001b[1m59s\u001b[0m 68ms/step - accuracy: 0.7520 - loss: 0.7230 - val_accuracy: 0.6900 - val_loss: 0.9421\n",
            "Epoch 16/30\n",
            "\u001b[1m781/781\u001b[0m \u001b[32m━━━━━━━━━━━━━━━━━━━━\u001b[0m\u001b[37m\u001b[0m \u001b[1m59s\u001b[0m 66ms/step - accuracy: 0.7649 - loss: 0.6964 - val_accuracy: 0.6817 - val_loss: 0.9417\n",
            "Epoch 17/30\n",
            "\u001b[1m781/781\u001b[0m \u001b[32m━━━━━━━━━━━━━━━━━━━━\u001b[0m\u001b[37m\u001b[0m \u001b[1m58s\u001b[0m 65ms/step - accuracy: 0.7555 - loss: 0.7161 - val_accuracy: 0.6934 - val_loss: 0.9099\n",
            "Epoch 18/30\n",
            "\u001b[1m781/781\u001b[0m \u001b[32m━━━━━━━━━━━━━━━━━━━━\u001b[0m\u001b[37m\u001b[0m \u001b[1m57s\u001b[0m 65ms/step - accuracy: 0.7681 - loss: 0.6787 - val_accuracy: 0.6832 - val_loss: 0.9509\n",
            "Epoch 19/30\n",
            "\u001b[1m781/781\u001b[0m \u001b[32m━━━━━━━━━━━━━━━━━━━━\u001b[0m\u001b[37m\u001b[0m \u001b[1m59s\u001b[0m 66ms/step - accuracy: 0.7617 - loss: 0.7105 - val_accuracy: 0.6601 - val_loss: 1.0126\n",
            "Epoch 20/30\n",
            "\u001b[1m781/781\u001b[0m \u001b[32m━━━━━━━━━━━━━━━━━━━━\u001b[0m\u001b[37m\u001b[0m \u001b[1m59s\u001b[0m 68ms/step - accuracy: 0.7647 - loss: 0.6962 - val_accuracy: 0.6936 - val_loss: 0.9240\n",
            "Epoch 21/30\n",
            "\u001b[1m781/781\u001b[0m \u001b[32m━━━━━━━━━━━━━━━━━━━━\u001b[0m\u001b[37m\u001b[0m \u001b[1m59s\u001b[0m 65ms/step - accuracy: 0.7658 - loss: 0.6854 - val_accuracy: 0.6835 - val_loss: 0.9678\n",
            "Epoch 22/30\n",
            "\u001b[1m781/781\u001b[0m \u001b[32m━━━━━━━━━━━━━━━━━━━━\u001b[0m\u001b[37m\u001b[0m \u001b[1m58s\u001b[0m 66ms/step - accuracy: 0.7802 - loss: 0.6470 - val_accuracy: 0.6710 - val_loss: 0.9998\n",
            "Epoch 23/30\n",
            "\u001b[1m781/781\u001b[0m \u001b[32m━━━━━━━━━━━━━━━━━━━━\u001b[0m\u001b[37m\u001b[0m \u001b[1m59s\u001b[0m 66ms/step - accuracy: 0.7786 - loss: 0.6573 - val_accuracy: 0.6883 - val_loss: 0.9523\n",
            "Epoch 24/30\n",
            "\u001b[1m781/781\u001b[0m \u001b[32m━━━━━━━━━━━━━━━━━━━━\u001b[0m\u001b[37m\u001b[0m \u001b[1m55s\u001b[0m 63ms/step - accuracy: 0.7841 - loss: 0.6443 - val_accuracy: 0.6812 - val_loss: 0.9643\n",
            "Epoch 25/30\n",
            "\u001b[1m781/781\u001b[0m \u001b[32m━━━━━━━━━━━━━━━━━━━━\u001b[0m\u001b[37m\u001b[0m \u001b[1m56s\u001b[0m 64ms/step - accuracy: 0.7813 - loss: 0.6441 - val_accuracy: 0.6872 - val_loss: 0.9539\n",
            "Epoch 26/30\n",
            "\u001b[1m781/781\u001b[0m \u001b[32m━━━━━━━━━━━━━━━━━━━━\u001b[0m\u001b[37m\u001b[0m \u001b[1m55s\u001b[0m 63ms/step - accuracy: 0.7878 - loss: 0.6366 - val_accuracy: 0.7043 - val_loss: 0.9135\n",
            "Epoch 27/30\n",
            "\u001b[1m781/781\u001b[0m \u001b[32m━━━━━━━━━━━━━━━━━━━━\u001b[0m\u001b[37m\u001b[0m \u001b[1m55s\u001b[0m 63ms/step - accuracy: 0.8007 - loss: 0.6084 - val_accuracy: 0.6903 - val_loss: 0.9489\n",
            "Epoch 28/30\n",
            "\u001b[1m781/781\u001b[0m \u001b[32m━━━━━━━━━━━━━━━━━━━━\u001b[0m\u001b[37m\u001b[0m \u001b[1m60s\u001b[0m 67ms/step - accuracy: 0.7951 - loss: 0.6224 - val_accuracy: 0.6879 - val_loss: 0.9360\n",
            "Epoch 29/30\n",
            "\u001b[1m781/781\u001b[0m \u001b[32m━━━━━━━━━━━━━━━━━━━━\u001b[0m\u001b[37m\u001b[0m \u001b[1m56s\u001b[0m 65ms/step - accuracy: 0.7931 - loss: 0.6222 - val_accuracy: 0.7090 - val_loss: 0.9215\n",
            "Epoch 30/30\n",
            "\u001b[1m781/781\u001b[0m \u001b[32m━━━━━━━━━━━━━━━━━━━━\u001b[0m\u001b[37m\u001b[0m \u001b[1m56s\u001b[0m 64ms/step - accuracy: 0.8169 - loss: 0.5571 - val_accuracy: 0.7008 - val_loss: 0.9044\n"
          ]
        }
      ],
      "source": [
        "# history=model.fit(\n",
        "#     train_ds,\n",
        "#     epochs=10,\n",
        "#     batch_size=batch_size,\n",
        "#     verbose=1,\n",
        "#     validation_data=test_ds,\n",
        "\n",
        "# )\n",
        "\n",
        "\n",
        "# Entrenar el modelo\n",
        "history=model.fit(train_ds, epochs=30, batch_size=64, validation_data=test_ds)\n"
      ]
    },
    {
      "cell_type": "code",
      "execution_count": null,
      "metadata": {},
      "outputs": [],
      "source": [
        "# Evaluar el modelo\n",
        "# test_loss, test_acc = model.evaluate(x_test_resized, y_test)\n",
        "# print(f'Test accuracy: {test_acc}')"
      ]
    },
    {
      "cell_type": "code",
      "execution_count": 7,
      "metadata": {},
      "outputs": [
        {
          "data": {
            "image/png": "[encoded data removed]",
            "text/plain": [
              "<Figure size 640x480 with 1 Axes>"
            ]
          },
          "metadata": {},
          "output_type": "display_data"
        }
      ],
      "source": [
        "history_dict = history.history\n",
        "\n",
        "loss_values = history_dict['loss']\n",
        "val_loss_values = history_dict['val_loss']\n",
        "epochs = range(1, len(loss_values) + 1)\n",
        "\n",
        "plt.plot(epochs, loss_values, 'bo', label='Training Loss')\n",
        "plt.plot(epochs, val_loss_values, 'b', label='Validation Loss')\n",
        "plt.title('Training and Validation loss')\n",
        "plt.xlabel('Epochs')\n",
        "plt.ylabel('Loss')\n",
        "plt.legend()\n",
        "plt.show()"
      ]
    },
    {
      "cell_type": "code",
      "execution_count": 8,
      "metadata": {},
      "outputs": [
        {
          "data": {
            "image/png": "[encoded data removed]",
            "text/plain": [
              "<Figure size 640x480 with 1 Axes>"
            ]
          },
          "metadata": {},
          "output_type": "display_data"
        },
        {
          "name": "stdout",
          "output_type": "stream",
          "text": [
            "Done\n"
          ]
        }
      ],
      "source": [
        "plt.clf()\n",
        "acc = history_dict['accuracy']\n",
        "val_acc = history_dict['val_accuracy']\n",
        "\n",
        "plt.plot(epochs, acc, 'bo', label='Training Acc')\n",
        "plt.plot(epochs, val_acc,'b', label='Validation Acc')\n",
        "plt.title('Training and Validation Accuracy')\n",
        "plt.xlabel('Epochs')\n",
        "plt.ylabel('Accuracy')\n",
        "plt.legend()\n",
        "plt.show()\n",
        "print (\"Done\")"
      ]
    },
    {
      "cell_type": "code",
      "execution_count": 9,
      "metadata": {},
      "outputs": [],
      "source": [
        "model.save(\"./imgSegExcercise/Playground/TrainedFullModel.keras\")"
      ]
    },
    {
      "cell_type": "markdown",
      "metadata": {},
      "source": [
        "# Nueva propuesta"
      ]
    },
    {
      "cell_type": "code",
      "execution_count": null,
      "metadata": {},
      "outputs": [],
      "source": [
        "# import tensorflow as tf\n",
        "# from tensorflow.keras import layers, models, datasets, utils\n",
        "# from keras.utils import to_categorical\n",
        "# import numpy as np # linear algebra\n",
        "# import cv2\n"
      ]
    },
    {
      "cell_type": "code",
      "execution_count": null,
      "metadata": {},
      "outputs": [],
      "source": [
        "# def load_cifar10_data(img_rows, img_cols):\n",
        "\n",
        "#     # Load cifar10 training and validation sets\n",
        "#     (X_train, Y_train), (X_valid, Y_valid) = datasets.cifar10.load_data()\n",
        "\n",
        "#     # Resize training images\n",
        "#     X_train = np.array([cv2.resize(img, (img_rows,img_cols)) for img in X_train[:,:,:,:]])\n",
        "#     X_valid = np.array([cv2.resize(img, (img_rows,img_cols)) for img in X_valid[:,:,:,:]])\n",
        "\n",
        "#     # Transform targets to keras compatible format\n",
        "#     Y_train = to_categorical(Y_train, 10)\n",
        "#     Y_valid = to_categorical(Y_valid, 10)\n",
        "\n",
        "#     X_train = X_train.astype('float32')\n",
        "#     X_valid = X_valid.astype('float32')\n",
        "\n",
        "#     # preprocess data\n",
        "#     X_train = X_train / 255.0\n",
        "#     X_valid = X_valid / 255.0\n",
        "\n",
        "#     return X_train, Y_train, X_valid, Y_valid\n",
        "\n",
        "# x_train, y_train, x_test, y_test = load_cifar10_data(224, 224)"
      ]
    },
    {
      "cell_type": "code",
      "execution_count": null,
      "metadata": {},
      "outputs": [],
      "source": [
        "# # Cargar el dataset CIFAR-10\n",
        "# (x_train, y_train), (x_test, y_test) = datasets.cifar10.load_data()\n",
        "\n",
        "# # Redimensionar las imágenes a 224x224\n",
        "# def resize_images(images, size=(224, 224)):\n",
        "#     return tf.image.resize(images, size)\n",
        "\n",
        "# x_train_resized = resize_images(x_train)\n",
        "# x_test_resized = resize_images(x_test)\n",
        "\n",
        "# # Normalizar las imágenes\n",
        "# x_train_resized, x_test_resized = x_train_resized / 255.0, x_test_resized / 255.0\n",
        "\n",
        "# # Convertir las etiquetas a one-hot encoding\n",
        "# y_train = utils.to_categorical(y_train, 10)\n",
        "# y_test = utils.to_categorical(y_test, 10)"
      ]
    },
    {
      "cell_type": "code",
      "execution_count": null,
      "metadata": {},
      "outputs": [],
      "source": [
        "# # Definir el modelo AlexNet\n",
        "# model = models.Sequential([\n",
        "#     layers.Conv2D(64, kernel_size=11, strides=4, padding='same', activation='relu', input_shape=(224, 224, 3)),\n",
        "#     layers.MaxPooling2D(pool_size=3, strides=2),\n",
        "#     layers.Conv2D(192, kernel_size=5, padding='same', activation='relu'),\n",
        "#     layers.MaxPooling2D(pool_size=3, strides=2),\n",
        "#     layers.Conv2D(384, kernel_size=3, padding='same', activation='relu'),\n",
        "#     layers.Conv2D(256, kernel_size=3, padding='same', activation='relu'),\n",
        "#     layers.Conv2D(256, kernel_size=3, padding='same', activation='relu'),\n",
        "#     layers.MaxPooling2D(pool_size=3, strides=2),\n",
        "#     layers.Flatten(),\n",
        "#     layers.Dense(4096, activation='relu'),\n",
        "#     layers.Dropout(0.5),\n",
        "#     layers.Dense(4096, activation='relu'),\n",
        "#     layers.Dropout(0.5),\n",
        "#     layers.Dense(10, activation='softmax')\n",
        "# ])\n",
        "# model.summary()"
      ]
    },
    {
      "cell_type": "code",
      "execution_count": null,
      "metadata": {},
      "outputs": [],
      "source": [
        "# # Compilar el modelo\n",
        "# model.compile(optimizer='adam',\n",
        "#               loss='categorical_crossentropy',\n",
        "#               metrics=['accuracy'])\n",
        "\n",
        "# # Entrenar el modelo\n",
        "# model.fit(x_train_resized, y_train, epochs=10, batch_size=64, validation_data=(x_test_resized, y_test))\n",
        "\n",
        "# # Evaluar el modelo\n",
        "# test_loss, test_acc = model.evaluate(x_test_resized, y_test)\n",
        "# print(f'Test accuracy: {test_acc}')"
      ]
    }
  ],
  "metadata": {
    "colab": {
      "provenance": []
    },
    "kernelspec": {
      "display_name": "Python 3 (ipykernel)",
      "language": "python",
      "name": "python3"
    }
  },
  "nbformat": 4,
  "nbformat_minor": 0
}
